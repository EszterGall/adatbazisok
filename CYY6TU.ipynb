{
    "metadata": {
        "kernelspec": {
            "name": "SQL",
            "display_name": "SQL",
            "language": "sql"
        },
        "language_info": {
            "name": "sql",
            "version": ""
        }
    },
    "nbformat_minor": 2,
    "nbformat": 4,
    "cells": [
        {
            "cell_type": "markdown",
            "source": [
                "<span style=\"color: #09885a;\">1</span>. kerdes: https:<span style=\"color: #000000;\">//</span>github.com<span style=\"color: #000000;\">/</span>EszterGall<span style=\"color: #000000;\">/</span>adatbazisok.git"
            ],
            "metadata": {
                "azdata_cell_guid": "d33daa39-fe13-4cd7-8bb2-f2ebb68ced42"
            },
            "attachments": {}
        },
        {
            "cell_type": "markdown",
            "source": [
                "2\\. kérdés:"
            ],
            "metadata": {
                "azdata_cell_guid": "c6afdd4f-027f-43cd-8352-2f86271b0c24"
            },
            "attachments": {}
        },
        {
            "cell_type": "code",
            "source": [
                "select tipus, round(avg(csillagok_szama),0) as 'csillagok_szama'\r\n",
                "from szallashely\r\n",
                "where tipus <> 'panzió'\r\n",
                "group by tipus\r\n",
                "having round(avg(csillagok_szama),0)>=3"
            ],
            "metadata": {
                "azdata_cell_guid": "7e995c8d-9584-44cf-bb85-db715d151b31",
                "language": "sql",
                "tags": []
            },
            "outputs": [
                {
                    "output_type": "display_data",
                    "data": {
                        "text/html": "(1 row affected)"
                    },
                    "metadata": {}
                },
                {
                    "output_type": "display_data",
                    "data": {
                        "text/html": "Total execution time: 00:00:00.008"
                    },
                    "metadata": {}
                },
                {
                    "output_type": "execute_result",
                    "metadata": {},
                    "execution_count": 9,
                    "data": {
                        "application/vnd.dataresource+json": {
                            "schema": {
                                "fields": [
                                    {
                                        "name": "tipus"
                                    },
                                    {
                                        "name": "csillagok_szama"
                                    }
                                ]
                            },
                            "data": [
                                {
                                    "tipus": "Hotel",
                                    "csillagok_szama": "3"
                                }
                            ]
                        },
                        "text/html": [
                            "<table>",
                            "<tr><th>tipus</th><th>csillagok_szama</th></tr>",
                            "<tr><td>Hotel</td><td>3</td></tr>",
                            "</table>"
                        ]
                    }
                }
            ],
            "execution_count": 9
        },
        {
            "cell_type": "markdown",
            "source": [
                "3\\. kérdés:"
            ],
            "metadata": {
                "azdata_cell_guid": "959a4e6a-58dc-44dc-827e-393c578e3702"
            },
            "attachments": {}
        },
        {
            "cell_type": "code",
            "source": [
                "select szallas_nev, count(szoba_fk)\r\n",
                "from szallashely s join szoba o on s.szallas_id=o.szallas_fk join foglalas f on o.szallas_fk=f.SZOBA_FK\r\n",
                "group by szallas_nev\r\n",
                ""
            ],
            "metadata": {
                "azdata_cell_guid": "58b75473-b46a-46c6-ba1e-8ce26a0350d8",
                "language": "sql"
            },
            "outputs": [
                {
                    "output_type": "display_data",
                    "data": {
                        "text/html": "(0 rows affected)"
                    },
                    "metadata": {}
                },
                {
                    "output_type": "display_data",
                    "data": {
                        "text/html": "Total execution time: 00:00:00.009"
                    },
                    "metadata": {}
                },
                {
                    "output_type": "execute_result",
                    "metadata": {},
                    "execution_count": 12,
                    "data": {
                        "application/vnd.dataresource+json": {
                            "schema": {
                                "fields": [
                                    {
                                        "name": "szallas_nev"
                                    },
                                    {
                                        "name": "(No column name)"
                                    }
                                ]
                            },
                            "data": []
                        },
                        "text/html": [
                            "<table>",
                            "<tr><th>szallas_nev</th><th>(No column name)</th></tr>",
                            "</table>"
                        ]
                    }
                }
            ],
            "execution_count": 12
        }
    ]
}