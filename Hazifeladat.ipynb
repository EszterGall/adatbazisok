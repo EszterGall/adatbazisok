{
    "metadata": {
        "kernelspec": {
            "name": "SQL",
            "display_name": "SQL",
            "language": "sql"
        },
        "language_info": {
            "name": "sql",
            "version": ""
        }
    },
    "nbformat_minor": 2,
    "nbformat": 4,
    "cells": [
        {
            "cell_type": "code",
            "source": [
                "SELECT COUNT(*) AS 'Termékek száma'\r\n",
                "FROM Termek"
            ],
            "metadata": {
                "azdata_cell_guid": "8f7f6d6c-aca3-420f-9f86-7fb136e5953f",
                "language": "sql"
            },
            "outputs": [
                {
                    "output_type": "display_data",
                    "data": {
                        "text/html": "(1 row affected)"
                    },
                    "metadata": {}
                },
                {
                    "output_type": "display_data",
                    "data": {
                        "text/html": "Total execution time: 00:00:00.038"
                    },
                    "metadata": {}
                },
                {
                    "output_type": "execute_result",
                    "metadata": {},
                    "execution_count": 1,
                    "data": {
                        "application/vnd.dataresource+json": {
                            "schema": {
                                "fields": [
                                    {
                                        "name": "Termékek száma"
                                    }
                                ]
                            },
                            "data": [
                                {
                                    "Termékek száma": "551"
                                }
                            ]
                        },
                        "text/html": [
                            "<table>",
                            "<tr><th>Termékek száma</th></tr>",
                            "<tr><td>551</td></tr>",
                            "</table>"
                        ]
                    }
                }
            ],
            "execution_count": 1
        },
        {
            "cell_type": "code",
            "source": [
                "SELECT MIN(listaar) AS 'Legkisebb ár', \r\n",
                "       MAX(listaar) AS 'Legmagasabb ár', \r\n",
                "       AVG(listaar) AS 'Átlagos termékár', \r\n",
                "       STDEV(listaar) AS 'Normál eltérés a termékárak között/szórás'\r\n",
                "FROM termek\r\n",
                "WHERE listaar IS NOT NULL"
            ],
            "metadata": {
                "azdata_cell_guid": "cfc00284-83e8-42df-b2a6-4cb6e31d4fb6",
                "language": "sql"
            },
            "outputs": [
                {
                    "output_type": "display_data",
                    "data": {
                        "text/html": "(1 row affected)"
                    },
                    "metadata": {}
                },
                {
                    "output_type": "display_data",
                    "data": {
                        "text/html": "Total execution time: 00:00:00.013"
                    },
                    "metadata": {}
                },
                {
                    "output_type": "execute_result",
                    "metadata": {},
                    "execution_count": 2,
                    "data": {
                        "application/vnd.dataresource+json": {
                            "schema": {
                                "fields": [
                                    {
                                        "name": "Legkisebb ár"
                                    },
                                    {
                                        "name": "Legmagasabb ár"
                                    },
                                    {
                                        "name": "Átlagos termékár"
                                    },
                                    {
                                        "name": "Normál eltérés a termékárak között/szórás"
                                    }
                                ]
                            },
                            "data": [
                                {
                                    "Legkisebb ár": "0",
                                    "Legmagasabb ár": "46000",
                                    "Átlagos termékár": "786,2813067150635",
                                    "Normál eltérés a termékárak között/szórás": "3602,4811630060694"
                                }
                            ]
                        },
                        "text/html": [
                            "<table>",
                            "<tr><th>Legkisebb ár</th><th>Legmagasabb ár</th><th>Átlagos termékár</th><th>Normál eltérés a termékárak között/szórás</th></tr>",
                            "<tr><td>0</td><td>46000</td><td>786,2813067150635</td><td>3602,4811630060694</td></tr>",
                            "</table>"
                        ]
                    }
                }
            ],
            "execution_count": 2
        },
        {
            "cell_type": "code",
            "source": [
                "SELECT oszlop_tipus,\r\n",
                "    COUNT(*) db_szam\r\n",
                "FROM \r\n",
                "    (SELECT \r\n",
                "        CASE WHEN listaar IS NULL THEN 'Null'\r\n",
                "            WHEN LEN(listaar) = 0 THEN 'Empty'\r\n",
                "            ELSE 'Non Empty' \r\n",
                "            END AS oszlop_tipus\r\n",
                "        FROM termek) rows\r\n",
                "GROUP BY oszlop_tipus"
            ],
            "metadata": {
                "azdata_cell_guid": "6d181812-0c16-4c9f-85b1-eee4fca13049",
                "language": "sql"
            },
            "outputs": [
                {
                    "output_type": "display_data",
                    "data": {
                        "text/html": "(1 row affected)"
                    },
                    "metadata": {}
                },
                {
                    "output_type": "display_data",
                    "data": {
                        "text/html": "Total execution time: 00:00:00.011"
                    },
                    "metadata": {}
                },
                {
                    "output_type": "execute_result",
                    "metadata": {},
                    "execution_count": 8,
                    "data": {
                        "application/vnd.dataresource+json": {
                            "schema": {
                                "fields": [
                                    {
                                        "name": "oszlop_tipus"
                                    },
                                    {
                                        "name": "db_szam"
                                    }
                                ]
                            },
                            "data": [
                                {
                                    "oszlop_tipus": "Non Empty",
                                    "db_szam": "551"
                                }
                            ]
                        },
                        "text/html": [
                            "<table>",
                            "<tr><th>oszlop_tipus</th><th>db_szam</th></tr>",
                            "<tr><td>Non Empty</td><td>551</td></tr>",
                            "</table>"
                        ]
                    }
                }
            ],
            "execution_count": 8
        },
        {
            "cell_type": "markdown",
            "source": [
                ""
            ],
            "metadata": {
                "azdata_cell_guid": "818ba980-6381-46f7-b129-4c2d2891e17c"
            }
        },
        {
            "cell_type": "code",
            "source": [
                "SELECT \r\n",
                "    megnevezes AS 'Terméknév', \r\n",
                "    COUNT(*) row_count\r\n",
                "from termek\r\n",
                "WHERE megnevezes IS NOT null\r\n",
                "GROUP BY megnevezes\r\n",
                "ORDER BY COUNT(*) desc"
            ],
            "metadata": {
                "azdata_cell_guid": "2c58f4a1-4dad-4ea9-9b7a-cac28a8c3451",
                "language": "sql"
            },
            "outputs": [
                {
                    "output_type": "display_data",
                    "data": {
                        "text/html": "(543 rows affected)"
                    },
                    "metadata": {}
                },
                {
                    "output_type": "display_data",
                    "data": {
                        "text/html": "Total execution time: 00:00:00.056"
                    },
                    "metadata": {}
                },
                {
                    "output_type": "execute_result",
                    "metadata": {},
                    "execution_count": 20,
                    "data": {
                        "application/vnd.dataresource+json": {
                            "schema": {
                                "fields": [
                                    {
                                        "name": "Terméknév"
                                    },
                                    {
                                        "name": "row_count"
                                    }
                                ]
                            },
                            "data": [
                                {
                                    "Terméknév": "Ajándék cs. tasak kicsi",
                                    "row_count": "2"
                                },
                                {
                                    "Terméknév": "Emlékkönyv",
                                    "row_count": "2"
                                },
                                {
                                    "Terméknév": "Golyóstoll",
                                    "row_count": "2"
                                },
                                {
                                    "Terméknév": "Levélpapír szett",
                                    "row_count": "2"
                                },
                                {
                                    "Terméknév": "Gyorsfűző műa.",
                                    "row_count": "2"
                                },
                                {
                                    "Terméknév": "Képeslap humoros ",
                                    "row_count": "2"
                                },
                                {
                                    "Terméknév": "Szövegkiemelő ",
                                    "row_count": "2"
                                },
                                {
                                    "Terméknév": "Füzettartó A/4 keménytáblás",
                                    "row_count": "2"
                                },
                                {
                                    "Terméknév": "Füzettartó A/5  ",
                                    "row_count": "1"
                                },
                                {
                                    "Terméknév": "Füzettartó A/5 vastag",
                                    "row_count": "1"
                                },
                                {
                                    "Terméknév": "G. toll betét mini",
                                    "row_count": "1"
                                },
                                {
                                    "Terméknév": "G. toll betét mini fém",
                                    "row_count": "1"
                                },
                                {
                                    "Terméknév": "G. toll betét réz",
                                    "row_count": "1"
                                },
                                {
                                    "Terméknév": "G. toll betét S7S",
                                    "row_count": "1"
                                },
                                {
                                    "Terméknév": "G. toll betét UNI lachnok Fine SA-7C",
                                    "row_count": "1"
                                },
                                {
                                    "Terméknév": "G.toll betét csavaros",
                                    "row_count": "1"
                                },
                                {
                                    "Terméknév": "G.toll betét görbe hegyű",
                                    "row_count": "1"
                                },
                                {
                                    "Terméknév": "G.toll betét illatos",
                                    "row_count": "1"
                                },
                                {
                                    "Terméknév": "G.toll betét jumbo",
                                    "row_count": "1"
                                },
                                {
                                    "Terméknév": "G.toll betét Parker ",
                                    "row_count": "1"
                                },
                                {
                                    "Terméknév": "G.toll betét PAX",
                                    "row_count": "1"
                                },
                                {
                                    "Terméknév": "G.toll betét PAX tip.",
                                    "row_count": "1"
                                },
                                {
                                    "Terméknév": "G.toll betét S7L ",
                                    "row_count": "1"
                                },
                                {
                                    "Terméknév": "G.toll betét Stabilo",
                                    "row_count": "1"
                                },
                                {
                                    "Terméknév": "G.toll betét X20",
                                    "row_count": "1"
                                },
                                {
                                    "Terméknév": "G.toll betét Zebra F-0.7",
                                    "row_count": "1"
                                },
                                {
                                    "Terméknév": "G.toll betét Zebra H-0,7",
                                    "row_count": "1"
                                },
                                {
                                    "Terméknév": "G.toll betét Zebra K-0,7",
                                    "row_count": "1"
                                },
                                {
                                    "Terméknév": "Gemkapocs 28 mm",
                                    "row_count": "1"
                                },
                                {
                                    "Terméknév": "Gémkapocs 28-as színes",
                                    "row_count": "1"
                                },
                                {
                                    "Terméknév": "Gémkapocs 50-es",
                                    "row_count": "1"
                                },
                                {
                                    "Terméknév": "Gemkapocs ICO",
                                    "row_count": "1"
                                },
                                {
                                    "Terméknév": "Genoterm HERLITZ 10-es",
                                    "row_count": "1"
                                },
                                {
                                    "Terméknév": "Genotherm A4 10db-os",
                                    "row_count": "1"
                                },
                                {
                                    "Terméknév": "Genotherm lefűzhető A/5",
                                    "row_count": "1"
                                },
                                {
                                    "Terméknév": "Genotherm lefűzhető A4 10db-os",
                                    "row_count": "1"
                                },
                                {
                                    "Terméknév": "A föld amelyen élünk - Európa földrajza",
                                    "row_count": "1"
                                },
                                {
                                    "Terméknév": "A föld amelyen élünk - Hazánk földrajza",
                                    "row_count": "1"
                                },
                                {
                                    "Terméknév": "A föld amelyen élünk - munkafüzet",
                                    "row_count": "1"
                                },
                                {
                                    "Terméknév": "A föld amelyen élünk - Távoli földrészek",
                                    "row_count": "1"
                                },
                                {
                                    "Terméknév": "Ablakkréta",
                                    "row_count": "1"
                                },
                                {
                                    "Terméknév": "Ajándék cs. 2×100×70",
                                    "row_count": "1"
                                },
                                {
                                    "Terméknév": "Ajándék cs. húsvéti",
                                    "row_count": "1"
                                },
                                {
                                    "Terméknév": "Ajándék cs. húsvéti 200x70",
                                    "row_count": "1"
                                },
                                {
                                    "Terméknév": "Ajándék cs. tasak italos",
                                    "row_count": "1"
                                },
                                {
                                    "Terméknév": "Ajándék cs. tasak italos, fólia",
                                    "row_count": "1"
                                },
                                {
                                    "Terméknév": "Szövegkiemelő Staedtler",
                                    "row_count": "1"
                                },
                                {
                                    "Terméknév": "Szövegkiemelő vékony",
                                    "row_count": "1"
                                },
                                {
                                    "Terméknév": "Szövegkiemelő Videotip",
                                    "row_count": "1"
                                },
                                {
                                    "Terméknév": "Szövegszerkesztés",
                                    "row_count": "1"
                                },
                                {
                                    "Terméknév": "Táblafilc",
                                    "row_count": "1"
                                },
                                {
                                    "Terméknév": "Taffet papír",
                                    "row_count": "1"
                                },
                                {
                                    "Terméknév": "Talpas tasak",
                                    "row_count": "1"
                                },
                                {
                                    "Terméknév": "Tapétavágó kés",
                                    "row_count": "1"
                                },
                                {
                                    "Terméknév": "Technika cs. I-II-III-IV",
                                    "row_count": "1"
                                },
                                {
                                    "Terméknév": "Tempera szóló ezüst",
                                    "row_count": "1"
                                },
                                {
                                    "Terméknév": "Tempera szóló színes",
                                    "row_count": "1"
                                },
                                {
                                    "Terméknév": "Tenisz labda",
                                    "row_count": "1"
                                },
                                {
                                    "Terméknév": "Térképtű színes",
                                    "row_count": "1"
                                },
                                {
                                    "Terméknév": "Tintapatron /kék/",
                                    "row_count": "1"
                                },
                                {
                                    "Terméknév": "Tintapatron 30 db-os kék",
                                    "row_count": "1"
                                },
                                {
                                    "Terméknév": "Tintapatron színes",
                                    "row_count": "1"
                                },
                                {
                                    "Terméknév": "Tokos iratrendező",
                                    "row_count": "1"
                                },
                                {
                                    "Terméknév": "Toll Centropen roller",
                                    "row_count": "1"
                                },
                                {
                                    "Terméknév": "Tolltartó 1 zipzáros",
                                    "row_count": "1"
                                },
                                {
                                    "Terméknév": "Tolltartó 2 részes NG.",
                                    "row_count": "1"
                                },
                                {
                                    "Terméknév": "Tolltartó 2 zipzáros töltött",
                                    "row_count": "1"
                                },
                                {
                                    "Terméknév": "Tolltartó asztali",
                                    "row_count": "1"
                                },
                                {
                                    "Terméknév": "Tolltartó Garfield",
                                    "row_count": "1"
                                },
                                {
                                    "Terméknév": "Tolltartó hengeres ",
                                    "row_count": "1"
                                },
                                {
                                    "Terméknév": "Tolltartó zipzáras",
                                    "row_count": "1"
                                },
                                {
                                    "Terméknév": "Tombola tömb",
                                    "row_count": "1"
                                },
                                {
                                    "Terméknév": "Tornazsák",
                                    "row_count": "1"
                                },
                                {
                                    "Terméknév": "Töltőtoll tinta ",
                                    "row_count": "1"
                                },
                                {
                                    "Terméknév": "Tűzőgép Boxer ",
                                    "row_count": "1"
                                },
                                {
                                    "Terméknév": "Tűzőgép Boxer 10",
                                    "row_count": "1"
                                },
                                {
                                    "Terméknév": "Tűzőgép EAGLE",
                                    "row_count": "1"
                                },
                                {
                                    "Terméknév": "Tűzőgép mini",
                                    "row_count": "1"
                                },
                                {
                                    "Terméknév": "Tűzőgép SAX 239",
                                    "row_count": "1"
                                },
                                {
                                    "Terméknév": "Tűzőkapocs 10-es",
                                    "row_count": "1"
                                },
                                {
                                    "Terméknév": "Tűzőkapocs 24/6",
                                    "row_count": "1"
                                },
                                {
                                    "Terméknév": "Vízfesték  12 színű nagy",
                                    "row_count": "1"
                                },
                                {
                                    "Terméknév": "Vízfesték 12 db-os ",
                                    "row_count": "1"
                                },
                                {
                                    "Terméknév": "Vízfesték 12 színű kerek",
                                    "row_count": "1"
                                },
                                {
                                    "Terméknév": "Vízfesték 12db-os kínai",
                                    "row_count": "1"
                                },
                                {
                                    "Terméknév": "Vonalzó 15 cm-es ESSELTE",
                                    "row_count": "1"
                                },
                                {
                                    "Terméknév": "Vonalzó 16 cm-es LIZZY",
                                    "row_count": "1"
                                },
                                {
                                    "Terméknév": "Vonalzó 20 cm-es ",
                                    "row_count": "1"
                                },
                                {
                                    "Terméknév": "Vonalzó 30 cm",
                                    "row_count": "1"
                                },
                                {
                                    "Terméknév": "Vonalzó 45 fokos",
                                    "row_count": "1"
                                },
                                {
                                    "Terméknév": "Vonalzó 60 fokos",
                                    "row_count": "1"
                                },
                                {
                                    "Terméknév": "Zászló papír",
                                    "row_count": "1"
                                },
                                {
                                    "Terméknév": "Zselés toll ",
                                    "row_count": "1"
                                },
                                {
                                    "Terméknév": "Zselés toll MICRO",
                                    "row_count": "1"
                                },
                                {
                                    "Terméknév": "Zselés toll Muhnwa",
                                    "row_count": "1"
                                },
                                {
                                    "Terméknév": "Zseléstoll Lizzy Card",
                                    "row_count": "1"
                                },
                                {
                                    "Terméknév": "Képeslap humoros borítékos",
                                    "row_count": "1"
                                },
                                {
                                    "Terméknév": "Képeslap humoros kaparós",
                                    "row_count": "1"
                                },
                                {
                                    "Terméknév": "Képeslap karácsonyi",
                                    "row_count": "1"
                                },
                                {
                                    "Terméknév": "Képeslap karácsonyi borítékos",
                                    "row_count": "1"
                                },
                                {
                                    "Terméknév": "Képeslap karácsonyi WD",
                                    "row_count": "1"
                                },
                                {
                                    "Terméknév": "Képeslap kerek",
                                    "row_count": "1"
                                },
                                {
                                    "Terméknév": "Képeslap stancolt",
                                    "row_count": "1"
                                },
                                {
                                    "Terméknév": "Képeslap stancolt szív",
                                    "row_count": "1"
                                },
                                {
                                    "Terméknév": "Képeslap virágos",
                                    "row_count": "1"
                                },
                                {
                                    "Terméknév": "Képeslap virágos +boríték",
                                    "row_count": "1"
                                },
                                {
                                    "Terméknév": "Képeslap WD +boríték",
                                    "row_count": "1"
                                },
                                {
                                    "Terméknév": "Képkirakó Dirib-darab",
                                    "row_count": "1"
                                },
                                {
                                    "Terméknév": "Kerámiatoll",
                                    "row_count": "1"
                                },
                                {
                                    "Terméknév": "Kiadási pénztárbizonylat 2×25",
                                    "row_count": "1"
                                },
                                {
                                    "Terméknév": "kosztüm (hosszú)",
                                    "row_count": "1"
                                },
                                {
                                    "Terméknév": "kosztüm (rövid)",
                                    "row_count": "1"
                                },
                                {
                                    "Terméknév": "Körző",
                                    "row_count": "1"
                                },
                                {
                                    "Terméknév": "Körző maped",
                                    "row_count": "1"
                                },
                                {
                                    "Terméknév": "Körzőhegy grafit",
                                    "row_count": "1"
                                },
                                {
                                    "Terméknév": "Kreatív A/4 120g ",
                                    "row_count": "1"
                                },
                                {
                                    "Terméknév": "Kreatív A/4 300g ",
                                    "row_count": "1"
                                },
                                {
                                    "Terméknév": "Krepp papír",
                                    "row_count": "1"
                                },
                                {
                                    "Terméknév": "Kulcstartó autós",
                                    "row_count": "1"
                                },
                                {
                                    "Terméknév": "Kulcstartó billiárd golyós",
                                    "row_count": "1"
                                },
                                {
                                    "Terméknév": "Kulcstartó Csőrikés",
                                    "row_count": "1"
                                },
                                {
                                    "Terméknév": "Kulcstartó figurás",
                                    "row_count": "1"
                                },
                                {
                                    "Terméknév": "Kulcstartó intarziás állatos",
                                    "row_count": "1"
                                },
                                {
                                    "Terméknév": "Kulcstartó mesefigurás",
                                    "row_count": "1"
                                },
                                {
                                    "Terméknév": "Kulcstartó nagyítós",
                                    "row_count": "1"
                                },
                                {
                                    "Terméknév": "Lakk filc Edding 750",
                                    "row_count": "1"
                                },
                                {
                                    "Terméknév": "Lampion",
                                    "row_count": "1"
                                },
                                {
                                    "Terméknév": "lány alsó",
                                    "row_count": "1"
                                },
                                {
                                    "Terméknév": "lány harisnya",
                                    "row_count": "1"
                                },
                                {
                                    "Terméknév": "lány ünneplős ruha",
                                    "row_count": "1"
                                },
                                {
                                    "Terméknév": "lány zokni",
                                    "row_count": "1"
                                },
                                {
                                    "Terméknév": "Leckefüzet",
                                    "row_count": "1"
                                },
                                {
                                    "Terméknév": "Levélpapír A/4",
                                    "row_count": "1"
                                },
                                {
                                    "Terméknév": "Levélpapír állatos",
                                    "row_count": "1"
                                },
                                {
                                    "Terméknév": "Levélpapír sima",
                                    "row_count": "1"
                                },
                                {
                                    "Terméknév": "Gyurma 12 szinű",
                                    "row_count": "1"
                                },
                                {
                                    "Terméknév": "Gyurma színes 200 g-os",
                                    "row_count": "1"
                                },
                                {
                                    "Terméknév": "Gyurma színes natúr",
                                    "row_count": "1"
                                },
                                {
                                    "Terméknév": "Gyurmakés",
                                    "row_count": "1"
                                },
                                {
                                    "Terméknév": "Gyűjtőlap A/4",
                                    "row_count": "1"
                                },
                                {
                                    "Terméknév": "Gyűrűskönyv",
                                    "row_count": "1"
                                },
                                {
                                    "Terméknév": "Gyűrűskönyv bet. A/4",
                                    "row_count": "1"
                                },
                                {
                                    "Terméknév": "Gyűrűskönyv bet. A/5",
                                    "row_count": "1"
                                },
                                {
                                    "Terméknév": "Gyűrűskönyv betét A/5",
                                    "row_count": "1"
                                },
                                {
                                    "Terméknév": "Gyűrűskönyv színes",
                                    "row_count": "1"
                                },
                                {
                                    "Terméknév": "Hajgumi macis",
                                    "row_count": "1"
                                },
                                {
                                    "Terméknév": "Határidő napló 2010-s",
                                    "row_count": "1"
                                },
                                {
                                    "Terméknév": "Határidő napló A/6",
                                    "row_count": "1"
                                },
                                {
                                    "Terméknév": "házt.csom.  5 ív",
                                    "row_count": "1"
                                },
                                {
                                    "Terméknév": "Hegyező gép",
                                    "row_count": "1"
                                },
                                {
                                    "Terméknév": "Hegyező műanyag dupla",
                                    "row_count": "1"
                                },
                                {
                                    "Terméknév": "Hegyező műanyag egyes",
                                    "row_count": "1"
                                },
                                {
                                    "Terméknév": "Hegyező tartályos egyes",
                                    "row_count": "1"
                                },
                                {
                                    "Terméknév": "Hegyző fém 1 lyukú",
                                    "row_count": "1"
                                },
                                {
                                    "Terméknév": "Hegyző fém 2 lyukú",
                                    "row_count": "1"
                                },
                                {
                                    "Terméknév": "Hibajav.roll.Pritt 4,2mm",
                                    "row_count": "1"
                                },
                                {
                                    "Terméknév": "Hibajavító ecsetes Aqua",
                                    "row_count": "1"
                                },
                                {
                                    "Terméknév": "Hibajavító készlet Blanco",
                                    "row_count": "1"
                                },
                                {
                                    "Terméknév": "Hibajavító Kores mini pen",
                                    "row_count": "1"
                                },
                                {
                                    "Terméknév": "Hibajavító lap ",
                                    "row_count": "1"
                                },
                                {
                                    "Terméknév": "Hibajavító roller 5 mm",
                                    "row_count": "1"
                                },
                                {
                                    "Terméknév": "Hibajavító roller Pax",
                                    "row_count": "1"
                                },
                                {
                                    "Terméknév": "Hőmérő, műa.",
                                    "row_count": "1"
                                },
                                {
                                    "Terméknév": "Hurkapálca 10 db-os",
                                    "row_count": "1"
                                },
                                {
                                    "Terméknév": "Hűtőmágnes",
                                    "row_count": "1"
                                },
                                {
                                    "Terméknév": "Hűtőmágnes WD",
                                    "row_count": "1"
                                },
                                {
                                    "Terméknév": "Indigó Pelikán",
                                    "row_count": "1"
                                },
                                {
                                    "Terméknév": "Informatika",
                                    "row_count": "1"
                                },
                                {
                                    "Terméknév": "Írásvetítő fólia",
                                    "row_count": "1"
                                },
                                {
                                    "Terméknév": "Iratgyűjtő ESSELTE ablakos",
                                    "row_count": "1"
                                },
                                {
                                    "Terméknév": "Iratgyűjtő fehér",
                                    "row_count": "1"
                                },
                                {
                                    "Terméknév": "Iratrendező ESSELTE",
                                    "row_count": "1"
                                },
                                {
                                    "Terméknév": "Iratsín fehér",
                                    "row_count": "1"
                                },
                                {
                                    "Terméknév": "Iratsín kék",
                                    "row_count": "1"
                                },
                                {
                                    "Terméknév": "Irattartó müa. boríték A/4",
                                    "row_count": "1"
                                },
                                {
                                    "Terméknév": "irodai tűzőgép",
                                    "row_count": "1"
                                },
                                {
                                    "Terméknév": "Írólap 10-50 ffam.",
                                    "row_count": "1"
                                },
                                {
                                    "Terméknév": "Írólap 20-50 ",
                                    "row_count": "1"
                                },
                                {
                                    "Terméknév": "Iromány fedél feles",
                                    "row_count": "1"
                                },
                                {
                                    "Terméknév": "Ironbél  2B ICO",
                                    "row_count": "1"
                                },
                                {
                                    "Terméknév": "Ironbél B 0,5",
                                    "row_count": "1"
                                },
                                {
                                    "Terméknév": "Ironbél H 0,5",
                                    "row_count": "1"
                                },
                                {
                                    "Terméknév": "Ironbél HB 0,5",
                                    "row_count": "1"
                                },
                                {
                                    "Terméknév": "Ironbél HI-POLIMER HB 0,7",
                                    "row_count": "1"
                                },
                                {
                                    "Terméknév": "iskolai csomagoló papír",
                                    "row_count": "1"
                                },
                                {
                                    "Terméknév": "Italtartó doboz",
                                    "row_count": "1"
                                },
                                {
                                    "Terméknév": "Játék autó",
                                    "row_count": "1"
                                },
                                {
                                    "Terméknév": "Játékautó Blisteres",
                                    "row_count": "1"
                                },
                                {
                                    "Terméknév": "Játékautó elemes",
                                    "row_count": "1"
                                },
                                {
                                    "Terméknév": "Játékautó mini",
                                    "row_count": "1"
                                },
                                {
                                    "Terméknév": "Jelzőkréta",
                                    "row_count": "1"
                                },
                                {
                                    "Terméknév": "Jól felkészültem-e - Fizika",
                                    "row_count": "1"
                                },
                                {
                                    "Terméknév": "Kapocskiszedő",
                                    "row_count": "1"
                                },
                                {
                                    "Terméknév": "Kártya mini Magyar",
                                    "row_count": "1"
                                },
                                {
                                    "Terméknév": "kék indigó",
                                    "row_count": "1"
                                },
                                {
                                    "Terméknév": "Képeslap  borítékos",
                                    "row_count": "1"
                                },
                                {
                                    "Terméknév": "Képeslap \"Nászajándék\"",
                                    "row_count": "1"
                                },
                                {
                                    "Terméknév": "Képeslap \"Részvét\"",
                                    "row_count": "1"
                                },
                                {
                                    "Terméknév": "Levélpapír szett natur, mintás",
                                    "row_count": "1"
                                },
                                {
                                    "Terméknév": "Levélpapír szett virágos",
                                    "row_count": "1"
                                },
                                {
                                    "Terméknév": "Logikai készlet",
                                    "row_count": "1"
                                },
                                {
                                    "Terméknév": "Lufi formázható",
                                    "row_count": "1"
                                },
                                {
                                    "Terméknév": "Lufi hullámos",
                                    "row_count": "1"
                                },
                                {
                                    "Terméknév": "Lyukasztó BOXER",
                                    "row_count": "1"
                                },
                                {
                                    "Terméknév": "Lyukasztó EAGLE",
                                    "row_count": "1"
                                },
                                {
                                    "Terméknév": "Mappa bemutató",
                                    "row_count": "1"
                                },
                                {
                                    "Terméknév": "Mappa bőr A5",
                                    "row_count": "1"
                                },
                                {
                                    "Terméknév": "Mappa müa A/4",
                                    "row_count": "1"
                                },
                                {
                                    "Terméknév": "Mappa PVC villámzáras",
                                    "row_count": "1"
                                },
                                {
                                    "Terméknév": "Mappa PVC villámzáras  képes",
                                    "row_count": "1"
                                },
                                {
                                    "Terméknév": "Márványos A/4",
                                    "row_count": "1"
                                },
                                {
                                    "Terméknév": "Matematika gyakorló 2",
                                    "row_count": "1"
                                },
                                {
                                    "Terméknév": "Matematika gyakorló 3",
                                    "row_count": "1"
                                },
                                {
                                    "Terméknév": "Matematika gyakorló 4",
                                    "row_count": "1"
                                },
                                {
                                    "Terméknév": "Matrica állatos",
                                    "row_count": "1"
                                },
                                {
                                    "Terméknév": "Matrica autóra H",
                                    "row_count": "1"
                                },
                                {
                                    "Terméknév": "Matrica motoros kicsi",
                                    "row_count": "1"
                                },
                                {
                                    "Terméknév": "Matrica Stickers nagy állatos",
                                    "row_count": "1"
                                },
                                {
                                    "Terméknév": "Matrica Stickers szíves",
                                    "row_count": "1"
                                },
                                {
                                    "Terméknév": "Matrica Test ékszer tattoo",
                                    "row_count": "1"
                                },
                                {
                                    "Terméknév": "Matrica tetoválás",
                                    "row_count": "1"
                                },
                                {
                                    "Terméknév": "Matrica tetoválós kicsi",
                                    "row_count": "1"
                                },
                                {
                                    "Terméknév": "Matrica világítós ",
                                    "row_count": "1"
                                },
                                {
                                    "Terméknév": "Matrica WD kicsi",
                                    "row_count": "1"
                                },
                                {
                                    "Terméknév": "Meghívó állatos",
                                    "row_count": "1"
                                },
                                {
                                    "Terméknév": "Meghívó ballagási",
                                    "row_count": "1"
                                },
                                {
                                    "Terméknév": "Meghívó borítékos",
                                    "row_count": "1"
                                },
                                {
                                    "Terméknév": "Mikulás zacskó",
                                    "row_count": "1"
                                },
                                {
                                    "Terméknév": "Miliméterpapír",
                                    "row_count": "1"
                                },
                                {
                                    "Terméknév": "Műanyag állatok",
                                    "row_count": "1"
                                },
                                {
                                    "Terméknév": "Műanyag foszforeszkáló állat",
                                    "row_count": "1"
                                },
                                {
                                    "Terméknév": "Műanyag pohár 1 dl-es",
                                    "row_count": "1"
                                },
                                {
                                    "Terméknév": "Műanyag pohár 5 cl-es",
                                    "row_count": "1"
                                },
                                {
                                    "Terméknév": "Műnyomó 300g 17,5*20",
                                    "row_count": "1"
                                },
                                {
                                    "Terméknév": "Naptár 24-es",
                                    "row_count": "1"
                                },
                                {
                                    "Terméknév": "Naptárhát kicsi",
                                    "row_count": "1"
                                },
                                {
                                    "Terméknév": "Naptárhát nagy",
                                    "row_count": "1"
                                },
                                {
                                    "Terméknév": "Névjegytartó kicsi",
                                    "row_count": "1"
                                },
                                {
                                    "Terméknév": "Notesz A/5 sima",
                                    "row_count": "1"
                                },
                                {
                                    "Terméknév": "Notesz A/5 sima spirál",
                                    "row_count": "1"
                                },
                                {
                                    "Terméknév": "Notesz A/6 College",
                                    "row_count": "1"
                                },
                                {
                                    "Terméknév": "Notesz mintás",
                                    "row_count": "1"
                                },
                                {
                                    "Terméknév": "Notesz sima spirál College",
                                    "row_count": "1"
                                },
                                {
                                    "Terméknév": "női alsó",
                                    "row_count": "1"
                                },
                                {
                                    "Terméknév": "női farmer nadrág",
                                    "row_count": "1"
                                },
                                {
                                    "Terméknév": "női koktélruha",
                                    "row_count": "1"
                                },
                                {
                                    "Terméknév": "női szövet kabát",
                                    "row_count": "1"
                                },
                                {
                                    "Terméknév": "Oki toner C",
                                    "row_count": "1"
                                },
                                {
                                    "Terméknév": "Oklevél A/4 egyszínű",
                                    "row_count": "1"
                                },
                                {
                                    "Terméknév": "Oklevél A/4 színes",
                                    "row_count": "1"
                                },
                                {
                                    "Terméknév": "Olló gyerek ",
                                    "row_count": "1"
                                },
                                {
                                    "Terméknév": "Olló Tagit 18 cm-es",
                                    "row_count": "1"
                                },
                                {
                                    "Terméknév": "Olló, iskolai",
                                    "row_count": "1"
                                },
                                {
                                    "Terméknév": "Öntapadó A/4",
                                    "row_count": "1"
                                },
                                {
                                    "Terméknév": "Öntapadós hologramos papír A/4",
                                    "row_count": "1"
                                },
                                {
                                    "Terméknév": "Öntapadős betűk",
                                    "row_count": "1"
                                },
                                {
                                    "Terméknév": "Összefoglaló feladatgyüjtemény számtech.",
                                    "row_count": "1"
                                },
                                {
                                    "Terméknév": "Papírcenti 100 cm-es",
                                    "row_count": "1"
                                },
                                {
                                    "Terméknév": "Papízsebkendő,10db Szindy",
                                    "row_count": "1"
                                },
                                {
                                    "Terméknév": "Pausz papír A/4",
                                    "row_count": "1"
                                },
                                {
                                    "Terméknév": "Pénztárgépsz. 2 pl. nem öníró",
                                    "row_count": "1"
                                },
                                {
                                    "Terméknév": "Pénztárgépszalag 2pl SC 57.5/60",
                                    "row_count": "1"
                                },
                                {
                                    "Terméknév": "Pill.ragasztó",
                                    "row_count": "1"
                                },
                                {
                                    "Terméknév": "Pixiron  UNI",
                                    "row_count": "1"
                                },
                                {
                                    "Terméknév": "Pixiron 0,7 Handy",
                                    "row_count": "1"
                                },
                                {
                                    "Terméknév": "Pixiron Centrum",
                                    "row_count": "1"
                                },
                                {
                                    "Terméknév": "Pixiron Handy fém",
                                    "row_count": "1"
                                },
                                {
                                    "Terméknév": "Pixiron Handy műanyag",
                                    "row_count": "1"
                                },
                                {
                                    "Terméknév": "Pixiron KOH-I-NOOR",
                                    "row_count": "1"
                                },
                                {
                                    "Terméknév": "Pixiron mini ",
                                    "row_count": "1"
                                },
                                {
                                    "Terméknév": "Pixiron Penac",
                                    "row_count": "1"
                                },
                                {
                                    "Terméknév": "Pixiron Pentel színes",
                                    "row_count": "1"
                                },
                                {
                                    "Terméknév": "Plüss  QX állatok",
                                    "row_count": "1"
                                },
                                {
                                    "Terméknév": "Plüss kicsi",
                                    "row_count": "1"
                                },
                                {
                                    "Terméknév": "Plüss sárkány",
                                    "row_count": "1"
                                },
                                {
                                    "Terméknév": "Post-it 51×38 100 lapos",
                                    "row_count": "1"
                                },
                                {
                                    "Terméknév": "Post-it 75×75 100 lapos",
                                    "row_count": "1"
                                },
                                {
                                    "Terméknév": "Radír gyümölcsös",
                                    "row_count": "1"
                                },
                                {
                                    "Terméknév": "Radír Koh-i-nor 40",
                                    "row_count": "1"
                                },
                                {
                                    "Terméknév": "Radír KOH-I-NOR 80",
                                    "row_count": "1"
                                },
                                {
                                    "Terméknév": "Radír Maped",
                                    "row_count": "1"
                                },
                                {
                                    "Terméknév": "Radír stabilo",
                                    "row_count": "1"
                                },
                                {
                                    "Terméknév": "Radír Tikky 30 ",
                                    "row_count": "1"
                                },
                                {
                                    "Terméknév": "Radír Tikky 40 ",
                                    "row_count": "1"
                                },
                                {
                                    "Terméknév": "Radírtoll betét ER100",
                                    "row_count": "1"
                                },
                                {
                                    "Terméknév": "Radírtoll betét vastag",
                                    "row_count": "1"
                                },
                                {
                                    "Terméknév": "Ragasztó 8 g Pritt",
                                    "row_count": "1"
                                },
                                {
                                    "Terméknév": "Ragasztó 9 g Pax",
                                    "row_count": "1"
                                },
                                {
                                    "Terméknév": "Ragasztó Gyurma",
                                    "row_count": "1"
                                },
                                {
                                    "Terméknév": "Ragasztó kenőfejes Nebuló",
                                    "row_count": "1"
                                },
                                {
                                    "Terméknév": "Ragasztó kores",
                                    "row_count": "1"
                                },
                                {
                                    "Terméknév": "Ragasztó szalag KORES ",
                                    "row_count": "1"
                                },
                                {
                                    "Terméknév": "Ragasztó, Technokol 35g kék",
                                    "row_count": "1"
                                },
                                {
                                    "Terméknév": "Ragasztó, Technokol 35g piros",
                                    "row_count": "1"
                                },
                                {
                                    "Terméknév": "Ragasztószalag  TIXO",
                                    "row_count": "1"
                                },
                                {
                                    "Terméknév": "Ragasztószalag 19 mm-es",
                                    "row_count": "1"
                                },
                                {
                                    "Terméknév": "Ragasztószalag 19 mm-es SCOTCH+ tépő",
                                    "row_count": "1"
                                },
                                {
                                    "Terméknév": "Ragasztószalag nagy 12 mm",
                                    "row_count": "1"
                                },
                                {
                                    "Terméknév": "Ragasztószalag széles barna",
                                    "row_count": "1"
                                },
                                {
                                    "Terméknév": "Rágógumi Orbit",
                                    "row_count": "1"
                                },
                                {
                                    "Terméknév": "Rajzlap A/4 10db ffam.",
                                    "row_count": "1"
                                },
                                {
                                    "Terméknév": "Rajzszeg",
                                    "row_count": "1"
                                },
                                {
                                    "Terméknév": "Rajzszeg színes",
                                    "row_count": "1"
                                },
                                {
                                    "Terméknév": "RAMba zárt világ",
                                    "row_count": "1"
                                },
                                {
                                    "Terméknév": "Regiszteres füzet A4",
                                    "row_count": "1"
                                },
                                {
                                    "Terméknév": "Regiszteres füzet A5 Hightech",
                                    "row_count": "1"
                                },
                                {
                                    "Terméknév": "Rovatolt papír 20 íves",
                                    "row_count": "1"
                                },
                                {
                                    "Terméknév": "sál",
                                    "row_count": "1"
                                },
                                {
                                    "Terméknév": "Selyemfényű karton A/4",
                                    "row_count": "1"
                                },
                                {
                                    "Terméknév": "Sorvezető",
                                    "row_count": "1"
                                },
                                {
                                    "Terméknév": "Sp.Füzet A/4  70es",
                                    "row_count": "1"
                                },
                                {
                                    "Terméknév": "Sp.Füzet A/4  perforált, lyuk.",
                                    "row_count": "1"
                                },
                                {
                                    "Terméknév": "Sp.Füzet A/4 70-as",
                                    "row_count": "1"
                                },
                                {
                                    "Terméknév": "Sp.Füzet A/5 70-es",
                                    "row_count": "1"
                                },
                                {
                                    "Terméknév": "Spirál 1/4 ",
                                    "row_count": "1"
                                },
                                {
                                    "Terméknév": "Strandlabda ",
                                    "row_count": "1"
                                },
                                {
                                    "Terméknév": "Szalvéta ",
                                    "row_count": "1"
                                },
                                {
                                    "Terméknév": "Szalvéta dekor",
                                    "row_count": "1"
                                },
                                {
                                    "Terméknév": "Szalvéta egyszínű",
                                    "row_count": "1"
                                },
                                {
                                    "Terméknév": "Szalvéta Goma húsvéti",
                                    "row_count": "1"
                                },
                                {
                                    "Terméknév": "Szalvéta gyűjtőknek",
                                    "row_count": "1"
                                },
                                {
                                    "Terméknév": "Szalvéta kicsi virágos",
                                    "row_count": "1"
                                },
                                {
                                    "Terméknév": "Szám.tech. kicsiknek",
                                    "row_count": "1"
                                },
                                {
                                    "Terméknév": "Számegyenes",
                                    "row_count": "1"
                                },
                                {
                                    "Terméknév": "Számológép Roxin",
                                    "row_count": "1"
                                },
                                {
                                    "Terméknév": "Számológép tudományos",
                                    "row_count": "1"
                                },
                                {
                                    "Terméknév": "Számolókorong",
                                    "row_count": "1"
                                },
                                {
                                    "Terméknév": "Számolópálca",
                                    "row_count": "1"
                                },
                                {
                                    "Terméknév": "Szemetes zsák 60 literes",
                                    "row_count": "1"
                                },
                                {
                                    "Terméknév": "Szilvia csomagoló",
                                    "row_count": "1"
                                },
                                {
                                    "Terméknév": "Színes A/3 160 gr IQ",
                                    "row_count": "1"
                                },
                                {
                                    "Terméknév": "Színes ceruza 12 szín",
                                    "row_count": "1"
                                },
                                {
                                    "Terméknév": "Színes ceruza 6-os",
                                    "row_count": "1"
                                },
                                {
                                    "Terméknév": "Színes karton A4",
                                    "row_count": "1"
                                },
                                {
                                    "Terméknév": "Színes másoló a/4 80g",
                                    "row_count": "1"
                                },
                                {
                                    "Terméknév": "Színes ofszet B/4",
                                    "row_count": "1"
                                },
                                {
                                    "Terméknév": "Színes papír I.II-IV.V-VIII-ig",
                                    "row_count": "1"
                                },
                                {
                                    "Terméknév": "Szorzótábla műanyag",
                                    "row_count": "1"
                                },
                                {
                                    "Terméknév": "Szótárfüzet Lizzy",
                                    "row_count": "1"
                                },
                                {
                                    "Terméknév": "Szögmérő 180 fokos műa.",
                                    "row_count": "1"
                                },
                                {
                                    "Terméknév": "Szögmérő papír",
                                    "row_count": "1"
                                },
                                {
                                    "Terméknév": "Szögmérő színes",
                                    "row_count": "1"
                                },
                                {
                                    "Terméknév": "Golyóstoll + ceruza Twister 2in1",
                                    "row_count": "1"
                                },
                                {
                                    "Terméknév": "Golyóstoll 3 funkciós ",
                                    "row_count": "1"
                                },
                                {
                                    "Terméknév": "Golyóstoll háromfunkciós",
                                    "row_count": "1"
                                },
                                {
                                    "Terméknév": "Golyóstoll háromszög",
                                    "row_count": "1"
                                },
                                {
                                    "Terméknév": "Golyóstoll illatos ICO",
                                    "row_count": "1"
                                },
                                {
                                    "Terméknév": "Golyóstoll INOXCROM",
                                    "row_count": "1"
                                },
                                {
                                    "Terméknév": "Golyóstoll kétfunkciós ICO",
                                    "row_count": "1"
                                },
                                {
                                    "Terméknév": "Golyóstoll kétszínű",
                                    "row_count": "1"
                                },
                                {
                                    "Terméknév": "Golyóstoll kupakos piros",
                                    "row_count": "1"
                                },
                                {
                                    "Terméknév": "Golyóstoll levélbontós",
                                    "row_count": "1"
                                },
                                {
                                    "Terméknév": "Golyóstoll Montex Hytone",
                                    "row_count": "1"
                                },
                                {
                                    "Terméknév": "Golyóstoll Parker tokban",
                                    "row_count": "1"
                                },
                                {
                                    "Terméknév": "Golyóstoll Pax tip.",
                                    "row_count": "1"
                                },
                                {
                                    "Terméknév": "Golyóstoll penac",
                                    "row_count": "1"
                                },
                                {
                                    "Terméknév": "Golyóstoll Stabiló 308",
                                    "row_count": "1"
                                },
                                {
                                    "Terméknév": "Golyóstoll Stabilo piros",
                                    "row_count": "1"
                                },
                                {
                                    "Terméknév": "Golyóstoll UNI átlátszó",
                                    "row_count": "1"
                                },
                                {
                                    "Terméknév": "Golyóstoll UNI gumis",
                                    "row_count": "1"
                                },
                                {
                                    "Terméknév": "Golyóstoll UNI laknock",
                                    "row_count": "1"
                                },
                                {
                                    "Terméknév": "Golyóstoll UNIBALL 07",
                                    "row_count": "1"
                                },
                                {
                                    "Terméknév": "Golyóstoll Zebra 301",
                                    "row_count": "1"
                                },
                                {
                                    "Terméknév": "Golyóstoll Zebra mini",
                                    "row_count": "1"
                                },
                                {
                                    "Terméknév": "Golyóstoll Zebra new hard",
                                    "row_count": "1"
                                },
                                {
                                    "Terméknév": "Golyóstoll Zodiák",
                                    "row_count": "1"
                                },
                                {
                                    "Terméknév": "Gumigyűrű",
                                    "row_count": "1"
                                },
                                {
                                    "Terméknév": "Gumilabda közepes",
                                    "row_count": "1"
                                },
                                {
                                    "Terméknév": "Gumis mappa ",
                                    "row_count": "1"
                                },
                                {
                                    "Terméknév": "Gumis mappa csomagolt",
                                    "row_count": "1"
                                },
                                {
                                    "Terméknév": "Gumis mappa fóliázott állatos",
                                    "row_count": "1"
                                },
                                {
                                    "Terméknév": "Gumis mappa Köbüki",
                                    "row_count": "1"
                                },
                                {
                                    "Terméknév": "gyermek cipő (fiú)",
                                    "row_count": "1"
                                },
                                {
                                    "Terméknév": "gyermek cipő (lány)",
                                    "row_count": "1"
                                },
                                {
                                    "Terméknév": "gyermek csizma (fiú)",
                                    "row_count": "1"
                                },
                                {
                                    "Terméknév": "gyermek csizma (lány)",
                                    "row_count": "1"
                                },
                                {
                                    "Terméknév": "gyermek farmer nadrág (fiú)",
                                    "row_count": "1"
                                },
                                {
                                    "Terméknév": "gyermek farmer nadrág (lány)",
                                    "row_count": "1"
                                },
                                {
                                    "Terméknév": "gyermek kabát (fiú)",
                                    "row_count": "1"
                                },
                                {
                                    "Terméknév": "gyermek kabát (lány)",
                                    "row_count": "1"
                                },
                                {
                                    "Terméknév": "gyermek pamut nadrág (fiú)",
                                    "row_count": "1"
                                },
                                {
                                    "Terméknév": "gyermek pamut nadrág (lány)",
                                    "row_count": "1"
                                },
                                {
                                    "Terméknév": "gyermek póló (fiú)",
                                    "row_count": "1"
                                },
                                {
                                    "Terméknév": "gyermek póló (lány)",
                                    "row_count": "1"
                                },
                                {
                                    "Terméknév": "gyermek szandál (fiú)",
                                    "row_count": "1"
                                },
                                {
                                    "Terméknév": "gyermek szandál (lány)",
                                    "row_count": "1"
                                },
                                {
                                    "Terméknév": "Gyorsfűző dosszié fehér",
                                    "row_count": "1"
                                },
                                {
                                    "Terméknév": "Emlékkönyv lakatos",
                                    "row_count": "1"
                                },
                                {
                                    "Terméknév": "Emléklap A/5",
                                    "row_count": "1"
                                },
                                {
                                    "Terméknév": "Érettségi felv. fel. Biológia",
                                    "row_count": "1"
                                },
                                {
                                    "Terméknév": "Érettségi felv. fel. Fizika",
                                    "row_count": "1"
                                },
                                {
                                    "Terméknév": "Érettségi felv. fel. Matematika",
                                    "row_count": "1"
                                },
                                {
                                    "Terméknév": "Esküvői meghívó",
                                    "row_count": "1"
                                },
                                {
                                    "Terméknév": "Fax papír 15 m",
                                    "row_count": "1"
                                },
                                {
                                    "Terméknév": "Fehér másoló A/3",
                                    "row_count": "1"
                                },
                                {
                                    "Terméknév": "Fehér másoló A/4",
                                    "row_count": "1"
                                },
                                {
                                    "Terméknév": "félfamentes rajzlap A4 (10 lap)",
                                    "row_count": "1"
                                },
                                {
                                    "Terméknév": "Fénymásoló papír DataCopy",
                                    "row_count": "1"
                                },
                                {
                                    "Terméknév": "Fénymásoló papír GetCopy",
                                    "row_count": "1"
                                },
                                {
                                    "Terméknév": "Fénymásoló papír Qconnect",
                                    "row_count": "1"
                                },
                                {
                                    "Terméknév": "férfi farmer nadrág",
                                    "row_count": "1"
                                },
                                {
                                    "Terméknév": "férfi ing",
                                    "row_count": "1"
                                },
                                {
                                    "Terméknév": "férfi szövet kabát",
                                    "row_count": "1"
                                },
                                {
                                    "Terméknév": "férfi szövet nadrág",
                                    "row_count": "1"
                                },
                                {
                                    "Terméknév": "Festékpatron BCI-3BK",
                                    "row_count": "1"
                                },
                                {
                                    "Terméknév": "Filctoll ",
                                    "row_count": "1"
                                },
                                {
                                    "Terméknév": "Filctoll CD író",
                                    "row_count": "1"
                                },
                                {
                                    "Terméknév": "Filctoll document pen",
                                    "row_count": "1"
                                },
                                {
                                    "Terméknév": "Filctoll Edding 750",
                                    "row_count": "1"
                                },
                                {
                                    "Terméknév": "Filctoll Marvy alkoholos",
                                    "row_count": "1"
                                },
                                {
                                    "Terméknév": "Filctoll permanent vastag",
                                    "row_count": "1"
                                },
                                {
                                    "Terméknév": "Filctoll supra fine",
                                    "row_count": "1"
                                },
                                {
                                    "Terméknév": "Filctoll TINTEN PEN",
                                    "row_count": "1"
                                },
                                {
                                    "Terméknév": "Filctoll vastag ARTIP",
                                    "row_count": "1"
                                },
                                {
                                    "Terméknév": "Filctoll, alkoholos Centropen",
                                    "row_count": "1"
                                },
                                {
                                    "Terméknév": "Filctoll, alkoholosOHP F-M-C",
                                    "row_count": "1"
                                },
                                {
                                    "Terméknév": "Filctoll, textil Edding 4500",
                                    "row_count": "1"
                                },
                                {
                                    "Terméknév": "fiú alsó",
                                    "row_count": "1"
                                },
                                {
                                    "Terméknév": "fiú harisnya",
                                    "row_count": "1"
                                },
                                {
                                    "Terméknév": "fiú ünneplős ruha",
                                    "row_count": "1"
                                },
                                {
                                    "Terméknév": "fiú zokni",
                                    "row_count": "1"
                                },
                                {
                                    "Terméknév": "Fizika",
                                    "row_count": "1"
                                },
                                {
                                    "Terméknév": "Fizika 13 éveseknek",
                                    "row_count": "1"
                                },
                                {
                                    "Terméknév": "Fizika munkafüzet 13 év.",
                                    "row_count": "1"
                                },
                                {
                                    "Terméknév": "Fizika munkafüzet 14 év.",
                                    "row_count": "1"
                                },
                                {
                                    "Terméknév": "Fizikai feladatok és tévedések",
                                    "row_count": "1"
                                },
                                {
                                    "Terméknév": "Floppy lemez",
                                    "row_count": "1"
                                },
                                {
                                    "Terméknév": "Fogalmazás lépésről lépésre",
                                    "row_count": "1"
                                },
                                {
                                    "Terméknév": "Fólia tasakos A4 125 mik.",
                                    "row_count": "1"
                                },
                                {
                                    "Terméknév": "Fólia tasakos A4 80 mik.",
                                    "row_count": "1"
                                },
                                {
                                    "Terméknév": "Fólia tasakos A4100 mik.",
                                    "row_count": "1"
                                },
                                {
                                    "Terméknév": "Fotópapír A/4 fényes",
                                    "row_count": "1"
                                },
                                {
                                    "Terméknév": "Füzet  A/4 ",
                                    "row_count": "1"
                                },
                                {
                                    "Terméknév": "Füzet  A4 mintás",
                                    "row_count": "1"
                                },
                                {
                                    "Terméknév": "Füzet 31-32 szótár",
                                    "row_count": "1"
                                },
                                {
                                    "Terméknév": "Füzet A/5 hangjegy 36/16",
                                    "row_count": "1"
                                },
                                {
                                    "Terméknév": "Füzet A/5, mintás",
                                    "row_count": "1"
                                },
                                {
                                    "Terméknév": "Füzet A5 1-8 osz.-ig",
                                    "row_count": "1"
                                },
                                {
                                    "Terméknév": "Füzetborító A/4 átlátszó",
                                    "row_count": "1"
                                },
                                {
                                    "Terméknév": "Füzetborító A/4 mintás",
                                    "row_count": "1"
                                },
                                {
                                    "Terméknév": "Füzetborító átlátszó A5",
                                    "row_count": "1"
                                },
                                {
                                    "Terméknév": "Füzetborító mesefig.",
                                    "row_count": "1"
                                },
                                {
                                    "Terméknév": "Füzetborító öntapadó kicsi",
                                    "row_count": "1"
                                },
                                {
                                    "Terméknév": "Füzetborító öntapadó tekercses",
                                    "row_count": "1"
                                },
                                {
                                    "Terméknév": "Füzetborító öntapadós nagy",
                                    "row_count": "1"
                                },
                                {
                                    "Terméknév": "Füzettartó A/4",
                                    "row_count": "1"
                                },
                                {
                                    "Terméknév": "Ajándék cs. tasak közepes",
                                    "row_count": "1"
                                },
                                {
                                    "Terméknév": "Ajándék cs. tasak mintás kicsi",
                                    "row_count": "1"
                                },
                                {
                                    "Terméknév": "Ajándék cs. tasak mintás nagy",
                                    "row_count": "1"
                                },
                                {
                                    "Terméknév": "Ajándék cs. tasak virágos nagy",
                                    "row_count": "1"
                                },
                                {
                                    "Terméknév": "Ajándék csom. 100x70 metál",
                                    "row_count": "1"
                                },
                                {
                                    "Terméknév": "Ajándék csom. 150x70",
                                    "row_count": "1"
                                },
                                {
                                    "Terméknév": "Ajándék csom. 200x70",
                                    "row_count": "1"
                                },
                                {
                                    "Terméknév": "Ajándék csom. 50x70 húsvéti",
                                    "row_count": "1"
                                },
                                {
                                    "Terméknév": "Ajándék csom. 70x50 metál",
                                    "row_count": "1"
                                },
                                {
                                    "Terméknév": "Ajándék csom. gyűrt",
                                    "row_count": "1"
                                },
                                {
                                    "Terméknév": "Ajándék csom. gyűrt 50x70 ",
                                    "row_count": "1"
                                },
                                {
                                    "Terméknév": "Ajándék csom. Krepp",
                                    "row_count": "1"
                                },
                                {
                                    "Terméknév": "Ajándék csom. nagy  ",
                                    "row_count": "1"
                                },
                                {
                                    "Terméknév": "Ajándék csom. vékony",
                                    "row_count": "1"
                                },
                                {
                                    "Terméknév": "Ajándék csomagoló tasak",
                                    "row_count": "1"
                                },
                                {
                                    "Terméknév": "Ajándék csomagoló tasak lézeres",
                                    "row_count": "1"
                                },
                                {
                                    "Terméknév": "Álarc",
                                    "row_count": "1"
                                },
                                {
                                    "Terméknév": "Álarc fejdísz",
                                    "row_count": "1"
                                },
                                {
                                    "Terméknév": "Álarc szemüveg",
                                    "row_count": "1"
                                },
                                {
                                    "Terméknév": "Álló irattartó",
                                    "row_count": "1"
                                },
                                {
                                    "Terméknév": "Álló irattartó karton",
                                    "row_count": "1"
                                },
                                {
                                    "Terméknév": "Alufólia 10 m-es",
                                    "row_count": "1"
                                },
                                {
                                    "Terméknév": "Alufólia 20 m-es",
                                    "row_count": "1"
                                },
                                {
                                    "Terméknév": "Anyanyelvi gyakorló 2",
                                    "row_count": "1"
                                },
                                {
                                    "Terméknév": "Anyanyelvi gyakorló 3",
                                    "row_count": "1"
                                },
                                {
                                    "Terméknév": "Árazószalag ",
                                    "row_count": "1"
                                },
                                {
                                    "Terméknév": "Átírótömb A/6",
                                    "row_count": "1"
                                },
                                {
                                    "Terméknév": "Beíró A/5 kockás",
                                    "row_count": "1"
                                },
                                {
                                    "Terméknév": "Beírókönyv A4",
                                    "row_count": "1"
                                },
                                {
                                    "Terméknév": "Beírókönyv A5 ",
                                    "row_count": "1"
                                },
                                {
                                    "Terméknév": "Bélyegző IDEAL 50",
                                    "row_count": "1"
                                },
                                {
                                    "Terméknév": "Bélyegző párna",
                                    "row_count": "1"
                                },
                                {
                                    "Terméknév": "Bélyegző pocket",
                                    "row_count": "1"
                                },
                                {
                                    "Terméknév": "Bélyegző RP 18-47",
                                    "row_count": "1"
                                },
                                {
                                    "Terméknév": "Bélyegzőfesték ",
                                    "row_count": "1"
                                },
                                {
                                    "Terméknév": "Bérlet tok",
                                    "row_count": "1"
                                },
                                {
                                    "Terméknév": "Betűtartó sin",
                                    "row_count": "1"
                                },
                                {
                                    "Terméknév": "Bevételi pénztárbizonylat 3×25",
                                    "row_count": "1"
                                },
                                {
                                    "Terméknév": "Boríték B/4-es",
                                    "row_count": "1"
                                },
                                {
                                    "Terméknév": "Boríték C/4-es",
                                    "row_count": "1"
                                },
                                {
                                    "Terméknév": "Boríték LA 4 francia",
                                    "row_count": "1"
                                },
                                {
                                    "Terméknév": "Boríték LC 5",
                                    "row_count": "1"
                                },
                                {
                                    "Terméknév": "Boríték LC 6",
                                    "row_count": "1"
                                },
                                {
                                    "Terméknév": "Boríték légp. kicsi",
                                    "row_count": "1"
                                },
                                {
                                    "Terméknév": "Boríték mintás",
                                    "row_count": "1"
                                },
                                {
                                    "Terméknév": "CD tartó tok",
                                    "row_count": "1"
                                },
                                {
                                    "Terméknév": "Celofán",
                                    "row_count": "1"
                                },
                                {
                                    "Terméknév": "Celofán 50 db-os",
                                    "row_count": "1"
                                },
                                {
                                    "Terméknév": "Ceruza 2H-3B Koh-i-nor",
                                    "row_count": "1"
                                },
                                {
                                    "Terméknév": "Ceruza 2H-4B",
                                    "row_count": "1"
                                },
                                {
                                    "Terméknév": "Ceruza arany, ezüst",
                                    "row_count": "1"
                                },
                                {
                                    "Terméknév": "Ceruza Conté zöld",
                                    "row_count": "1"
                                },
                                {
                                    "Terméknév": "Ceruza Cseh",
                                    "row_count": "1"
                                },
                                {
                                    "Terméknév": "Ceruza háromszög ",
                                    "row_count": "1"
                                },
                                {
                                    "Terméknév": "Ceruza HB radiros",
                                    "row_count": "1"
                                },
                                {
                                    "Terméknév": "Ceruza kártyás",
                                    "row_count": "1"
                                },
                                {
                                    "Terméknév": "Ceruza kínai",
                                    "row_count": "1"
                                },
                                {
                                    "Terméknév": "Ceruza piros-kék",
                                    "row_count": "1"
                                },
                                {
                                    "Terméknév": "Ceruza piros-kék vékony",
                                    "row_count": "1"
                                },
                                {
                                    "Terméknév": "Ceruza Progresso",
                                    "row_count": "1"
                                },
                                {
                                    "Terméknév": "Ceruza radíros kínai",
                                    "row_count": "1"
                                },
                                {
                                    "Terméknév": "Ceruza smaragd",
                                    "row_count": "1"
                                },
                                {
                                    "Terméknév": "Ceruza stabilo opera",
                                    "row_count": "1"
                                },
                                {
                                    "Terméknév": "Ceruza stabilo swano",
                                    "row_count": "1"
                                },
                                {
                                    "Terméknév": "Ceruza szén",
                                    "row_count": "1"
                                },
                                {
                                    "Terméknév": "Ceruza szorzótáblás",
                                    "row_count": "1"
                                },
                                {
                                    "Terméknév": "Ceruza zöld színű",
                                    "row_count": "1"
                                },
                                {
                                    "Terméknév": "Ceruzafogó",
                                    "row_count": "1"
                                },
                                {
                                    "Terméknév": "Címke 8 db-os",
                                    "row_count": "1"
                                },
                                {
                                    "Terméknév": "Címke egyszínű",
                                    "row_count": "1"
                                },
                                {
                                    "Terméknév": "Címke WD. állat",
                                    "row_count": "1"
                                },
                                {
                                    "Terméknév": "Color Copy 160 g-os ",
                                    "row_count": "1"
                                },
                                {
                                    "Terméknév": "Color Copy A/4 250 g",
                                    "row_count": "1"
                                },
                                {
                                    "Terméknév": "Color Copy A4 120 g",
                                    "row_count": "1"
                                },
                                {
                                    "Terméknév": "Color Copy A4 200 g",
                                    "row_count": "1"
                                },
                                {
                                    "Terméknév": "Dekorációs karton",
                                    "row_count": "1"
                                },
                                {
                                    "Terméknév": "Dekorációs karton arany, ezüst",
                                    "row_count": "1"
                                },
                                {
                                    "Terméknév": "Dipa A/4 keretezett",
                                    "row_count": "1"
                                },
                                {
                                    "Terméknév": "Díszdoboz kar.",
                                    "row_count": "1"
                                },
                                {
                                    "Terméknév": "Díszdoboz tollnak 2 db-os",
                                    "row_count": "1"
                                },
                                {
                                    "Terméknév": "Díszdoboz tollnak 2 db-os keskeny",
                                    "row_count": "1"
                                },
                                {
                                    "Terméknév": "Diszkötöző szalag arany",
                                    "row_count": "1"
                                },
                                {
                                    "Terméknév": "Díszkötöző szalag metál kicsi",
                                    "row_count": "1"
                                },
                                {
                                    "Terméknév": "Díszkötöző szalag metál nagy",
                                    "row_count": "1"
                                },
                                {
                                    "Terméknév": "Díszkötöző szalag vékony",
                                    "row_count": "1"
                                },
                                {
                                    "Terméknév": "Diszkötöző széles szalag",
                                    "row_count": "1"
                                },
                                {
                                    "Terméknév": "Dvd",
                                    "row_count": "1"
                                },
                                {
                                    "Terméknév": "Ecset Centrum 10,11,12",
                                    "row_count": "1"
                                },
                                {
                                    "Terméknév": "Ecset Centrum 7,8,9",
                                    "row_count": "1"
                                },
                                {
                                    "Terméknév": "Ecset Deák 2-es",
                                    "row_count": "1"
                                },
                                {
                                    "Terméknév": "Ecset Lizzy 10-es",
                                    "row_count": "1"
                                },
                                {
                                    "Terméknév": "Ecset Nebuló 10-es",
                                    "row_count": "1"
                                },
                                {
                                    "Terméknév": "Ecset Nebulo 4-es",
                                    "row_count": "1"
                                },
                                {
                                    "Terméknév": "Ecsetkészlet",
                                    "row_count": "1"
                                },
                                {
                                    "Terméknév": "Egészségügyi könyv",
                                    "row_count": "1"
                                },
                                {
                                    "Terméknév": "Ellenőrzőborító",
                                    "row_count": "1"
                                },
                                {
                                    "Terméknév": "Előlap spirálhoz",
                                    "row_count": "1"
                                }
                            ]
                        },
                        "text/html": [
                            "<table>",
                            "<tr><th>Terméknév</th><th>row_count</th></tr>",
                            "<tr><td>Ajándék cs. tasak kicsi</td><td>2</td></tr>",
                            "<tr><td>Emlékkönyv</td><td>2</td></tr>",
                            "<tr><td>Golyóstoll</td><td>2</td></tr>",
                            "<tr><td>Levélpapír szett</td><td>2</td></tr>",
                            "<tr><td>Gyorsfűző műa.</td><td>2</td></tr>",
                            "<tr><td>Képeslap humoros </td><td>2</td></tr>",
                            "<tr><td>Szövegkiemelő </td><td>2</td></tr>",
                            "<tr><td>Füzettartó A/4 keménytáblás</td><td>2</td></tr>",
                            "<tr><td>Füzettartó A/5  </td><td>1</td></tr>",
                            "<tr><td>Füzettartó A/5 vastag</td><td>1</td></tr>",
                            "<tr><td>G. toll betét mini</td><td>1</td></tr>",
                            "<tr><td>G. toll betét mini fém</td><td>1</td></tr>",
                            "<tr><td>G. toll betét réz</td><td>1</td></tr>",
                            "<tr><td>G. toll betét S7S</td><td>1</td></tr>",
                            "<tr><td>G. toll betét UNI lachnok Fine SA-7C</td><td>1</td></tr>",
                            "<tr><td>G.toll betét csavaros</td><td>1</td></tr>",
                            "<tr><td>G.toll betét görbe hegyű</td><td>1</td></tr>",
                            "<tr><td>G.toll betét illatos</td><td>1</td></tr>",
                            "<tr><td>G.toll betét jumbo</td><td>1</td></tr>",
                            "<tr><td>G.toll betét Parker </td><td>1</td></tr>",
                            "<tr><td>G.toll betét PAX</td><td>1</td></tr>",
                            "<tr><td>G.toll betét PAX tip.</td><td>1</td></tr>",
                            "<tr><td>G.toll betét S7L </td><td>1</td></tr>",
                            "<tr><td>G.toll betét Stabilo</td><td>1</td></tr>",
                            "<tr><td>G.toll betét X20</td><td>1</td></tr>",
                            "<tr><td>G.toll betét Zebra F-0.7</td><td>1</td></tr>",
                            "<tr><td>G.toll betét Zebra H-0,7</td><td>1</td></tr>",
                            "<tr><td>G.toll betét Zebra K-0,7</td><td>1</td></tr>",
                            "<tr><td>Gemkapocs 28 mm</td><td>1</td></tr>",
                            "<tr><td>Gémkapocs 28-as színes</td><td>1</td></tr>",
                            "<tr><td>Gémkapocs 50-es</td><td>1</td></tr>",
                            "<tr><td>Gemkapocs ICO</td><td>1</td></tr>",
                            "<tr><td>Genoterm HERLITZ 10-es</td><td>1</td></tr>",
                            "<tr><td>Genotherm A4 10db-os</td><td>1</td></tr>",
                            "<tr><td>Genotherm lefűzhető A/5</td><td>1</td></tr>",
                            "<tr><td>Genotherm lefűzhető A4 10db-os</td><td>1</td></tr>",
                            "<tr><td>A föld amelyen élünk - Európa földrajza</td><td>1</td></tr>",
                            "<tr><td>A föld amelyen élünk - Hazánk földrajza</td><td>1</td></tr>",
                            "<tr><td>A föld amelyen élünk - munkafüzet</td><td>1</td></tr>",
                            "<tr><td>A föld amelyen élünk - Távoli földrészek</td><td>1</td></tr>",
                            "<tr><td>Ablakkréta</td><td>1</td></tr>",
                            "<tr><td>Ajándék cs. 2×100×70</td><td>1</td></tr>",
                            "<tr><td>Ajándék cs. húsvéti</td><td>1</td></tr>",
                            "<tr><td>Ajándék cs. húsvéti 200x70</td><td>1</td></tr>",
                            "<tr><td>Ajándék cs. tasak italos</td><td>1</td></tr>",
                            "<tr><td>Ajándék cs. tasak italos, fólia</td><td>1</td></tr>",
                            "<tr><td>Szövegkiemelő Staedtler</td><td>1</td></tr>",
                            "<tr><td>Szövegkiemelő vékony</td><td>1</td></tr>",
                            "<tr><td>Szövegkiemelő Videotip</td><td>1</td></tr>",
                            "<tr><td>Szövegszerkesztés</td><td>1</td></tr>",
                            "<tr><td>Táblafilc</td><td>1</td></tr>",
                            "<tr><td>Taffet papír</td><td>1</td></tr>",
                            "<tr><td>Talpas tasak</td><td>1</td></tr>",
                            "<tr><td>Tapétavágó kés</td><td>1</td></tr>",
                            "<tr><td>Technika cs. I-II-III-IV</td><td>1</td></tr>",
                            "<tr><td>Tempera szóló ezüst</td><td>1</td></tr>",
                            "<tr><td>Tempera szóló színes</td><td>1</td></tr>",
                            "<tr><td>Tenisz labda</td><td>1</td></tr>",
                            "<tr><td>Térképtű színes</td><td>1</td></tr>",
                            "<tr><td>Tintapatron /kék/</td><td>1</td></tr>",
                            "<tr><td>Tintapatron 30 db-os kék</td><td>1</td></tr>",
                            "<tr><td>Tintapatron színes</td><td>1</td></tr>",
                            "<tr><td>Tokos iratrendező</td><td>1</td></tr>",
                            "<tr><td>Toll Centropen roller</td><td>1</td></tr>",
                            "<tr><td>Tolltartó 1 zipzáros</td><td>1</td></tr>",
                            "<tr><td>Tolltartó 2 részes NG.</td><td>1</td></tr>",
                            "<tr><td>Tolltartó 2 zipzáros töltött</td><td>1</td></tr>",
                            "<tr><td>Tolltartó asztali</td><td>1</td></tr>",
                            "<tr><td>Tolltartó Garfield</td><td>1</td></tr>",
                            "<tr><td>Tolltartó hengeres </td><td>1</td></tr>",
                            "<tr><td>Tolltartó zipzáras</td><td>1</td></tr>",
                            "<tr><td>Tombola tömb</td><td>1</td></tr>",
                            "<tr><td>Tornazsák</td><td>1</td></tr>",
                            "<tr><td>Töltőtoll tinta </td><td>1</td></tr>",
                            "<tr><td>Tűzőgép Boxer </td><td>1</td></tr>",
                            "<tr><td>Tűzőgép Boxer 10</td><td>1</td></tr>",
                            "<tr><td>Tűzőgép EAGLE</td><td>1</td></tr>",
                            "<tr><td>Tűzőgép mini</td><td>1</td></tr>",
                            "<tr><td>Tűzőgép SAX 239</td><td>1</td></tr>",
                            "<tr><td>Tűzőkapocs 10-es</td><td>1</td></tr>",
                            "<tr><td>Tűzőkapocs 24/6</td><td>1</td></tr>",
                            "<tr><td>Vízfesték  12 színű nagy</td><td>1</td></tr>",
                            "<tr><td>Vízfesték 12 db-os </td><td>1</td></tr>",
                            "<tr><td>Vízfesték 12 színű kerek</td><td>1</td></tr>",
                            "<tr><td>Vízfesték 12db-os kínai</td><td>1</td></tr>",
                            "<tr><td>Vonalzó 15 cm-es ESSELTE</td><td>1</td></tr>",
                            "<tr><td>Vonalzó 16 cm-es LIZZY</td><td>1</td></tr>",
                            "<tr><td>Vonalzó 20 cm-es </td><td>1</td></tr>",
                            "<tr><td>Vonalzó 30 cm</td><td>1</td></tr>",
                            "<tr><td>Vonalzó 45 fokos</td><td>1</td></tr>",
                            "<tr><td>Vonalzó 60 fokos</td><td>1</td></tr>",
                            "<tr><td>Zászló papír</td><td>1</td></tr>",
                            "<tr><td>Zselés toll </td><td>1</td></tr>",
                            "<tr><td>Zselés toll MICRO</td><td>1</td></tr>",
                            "<tr><td>Zselés toll Muhnwa</td><td>1</td></tr>",
                            "<tr><td>Zseléstoll Lizzy Card</td><td>1</td></tr>",
                            "<tr><td>Képeslap humoros borítékos</td><td>1</td></tr>",
                            "<tr><td>Képeslap humoros kaparós</td><td>1</td></tr>",
                            "<tr><td>Képeslap karácsonyi</td><td>1</td></tr>",
                            "<tr><td>Képeslap karácsonyi borítékos</td><td>1</td></tr>",
                            "<tr><td>Képeslap karácsonyi WD</td><td>1</td></tr>",
                            "<tr><td>Képeslap kerek</td><td>1</td></tr>",
                            "<tr><td>Képeslap stancolt</td><td>1</td></tr>",
                            "<tr><td>Képeslap stancolt szív</td><td>1</td></tr>",
                            "<tr><td>Képeslap virágos</td><td>1</td></tr>",
                            "<tr><td>Képeslap virágos +boríték</td><td>1</td></tr>",
                            "<tr><td>Képeslap WD +boríték</td><td>1</td></tr>",
                            "<tr><td>Képkirakó Dirib-darab</td><td>1</td></tr>",
                            "<tr><td>Kerámiatoll</td><td>1</td></tr>",
                            "<tr><td>Kiadási pénztárbizonylat 2×25</td><td>1</td></tr>",
                            "<tr><td>kosztüm (hosszú)</td><td>1</td></tr>",
                            "<tr><td>kosztüm (rövid)</td><td>1</td></tr>",
                            "<tr><td>Körző</td><td>1</td></tr>",
                            "<tr><td>Körző maped</td><td>1</td></tr>",
                            "<tr><td>Körzőhegy grafit</td><td>1</td></tr>",
                            "<tr><td>Kreatív A/4 120g </td><td>1</td></tr>",
                            "<tr><td>Kreatív A/4 300g </td><td>1</td></tr>",
                            "<tr><td>Krepp papír</td><td>1</td></tr>",
                            "<tr><td>Kulcstartó autós</td><td>1</td></tr>",
                            "<tr><td>Kulcstartó billiárd golyós</td><td>1</td></tr>",
                            "<tr><td>Kulcstartó Csőrikés</td><td>1</td></tr>",
                            "<tr><td>Kulcstartó figurás</td><td>1</td></tr>",
                            "<tr><td>Kulcstartó intarziás állatos</td><td>1</td></tr>",
                            "<tr><td>Kulcstartó mesefigurás</td><td>1</td></tr>",
                            "<tr><td>Kulcstartó nagyítós</td><td>1</td></tr>",
                            "<tr><td>Lakk filc Edding 750</td><td>1</td></tr>",
                            "<tr><td>Lampion</td><td>1</td></tr>",
                            "<tr><td>lány alsó</td><td>1</td></tr>",
                            "<tr><td>lány harisnya</td><td>1</td></tr>",
                            "<tr><td>lány ünneplős ruha</td><td>1</td></tr>",
                            "<tr><td>lány zokni</td><td>1</td></tr>",
                            "<tr><td>Leckefüzet</td><td>1</td></tr>",
                            "<tr><td>Levélpapír A/4</td><td>1</td></tr>",
                            "<tr><td>Levélpapír állatos</td><td>1</td></tr>",
                            "<tr><td>Levélpapír sima</td><td>1</td></tr>",
                            "<tr><td>Gyurma 12 szinű</td><td>1</td></tr>",
                            "<tr><td>Gyurma színes 200 g-os</td><td>1</td></tr>",
                            "<tr><td>Gyurma színes natúr</td><td>1</td></tr>",
                            "<tr><td>Gyurmakés</td><td>1</td></tr>",
                            "<tr><td>Gyűjtőlap A/4</td><td>1</td></tr>",
                            "<tr><td>Gyűrűskönyv</td><td>1</td></tr>",
                            "<tr><td>Gyűrűskönyv bet. A/4</td><td>1</td></tr>",
                            "<tr><td>Gyűrűskönyv bet. A/5</td><td>1</td></tr>",
                            "<tr><td>Gyűrűskönyv betét A/5</td><td>1</td></tr>",
                            "<tr><td>Gyűrűskönyv színes</td><td>1</td></tr>",
                            "<tr><td>Hajgumi macis</td><td>1</td></tr>",
                            "<tr><td>Határidő napló 2010-s</td><td>1</td></tr>",
                            "<tr><td>Határidő napló A/6</td><td>1</td></tr>",
                            "<tr><td>házt.csom.  5 ív</td><td>1</td></tr>",
                            "<tr><td>Hegyező gép</td><td>1</td></tr>",
                            "<tr><td>Hegyező műanyag dupla</td><td>1</td></tr>",
                            "<tr><td>Hegyező műanyag egyes</td><td>1</td></tr>",
                            "<tr><td>Hegyező tartályos egyes</td><td>1</td></tr>",
                            "<tr><td>Hegyző fém 1 lyukú</td><td>1</td></tr>",
                            "<tr><td>Hegyző fém 2 lyukú</td><td>1</td></tr>",
                            "<tr><td>Hibajav.roll.Pritt 4,2mm</td><td>1</td></tr>",
                            "<tr><td>Hibajavító ecsetes Aqua</td><td>1</td></tr>",
                            "<tr><td>Hibajavító készlet Blanco</td><td>1</td></tr>",
                            "<tr><td>Hibajavító Kores mini pen</td><td>1</td></tr>",
                            "<tr><td>Hibajavító lap </td><td>1</td></tr>",
                            "<tr><td>Hibajavító roller 5 mm</td><td>1</td></tr>",
                            "<tr><td>Hibajavító roller Pax</td><td>1</td></tr>",
                            "<tr><td>Hőmérő, műa.</td><td>1</td></tr>",
                            "<tr><td>Hurkapálca 10 db-os</td><td>1</td></tr>",
                            "<tr><td>Hűtőmágnes</td><td>1</td></tr>",
                            "<tr><td>Hűtőmágnes WD</td><td>1</td></tr>",
                            "<tr><td>Indigó Pelikán</td><td>1</td></tr>",
                            "<tr><td>Informatika</td><td>1</td></tr>",
                            "<tr><td>Írásvetítő fólia</td><td>1</td></tr>",
                            "<tr><td>Iratgyűjtő ESSELTE ablakos</td><td>1</td></tr>",
                            "<tr><td>Iratgyűjtő fehér</td><td>1</td></tr>",
                            "<tr><td>Iratrendező ESSELTE</td><td>1</td></tr>",
                            "<tr><td>Iratsín fehér</td><td>1</td></tr>",
                            "<tr><td>Iratsín kék</td><td>1</td></tr>",
                            "<tr><td>Irattartó müa. boríték A/4</td><td>1</td></tr>",
                            "<tr><td>irodai tűzőgép</td><td>1</td></tr>",
                            "<tr><td>Írólap 10-50 ffam.</td><td>1</td></tr>",
                            "<tr><td>Írólap 20-50 </td><td>1</td></tr>",
                            "<tr><td>Iromány fedél feles</td><td>1</td></tr>",
                            "<tr><td>Ironbél  2B ICO</td><td>1</td></tr>",
                            "<tr><td>Ironbél B 0,5</td><td>1</td></tr>",
                            "<tr><td>Ironbél H 0,5</td><td>1</td></tr>",
                            "<tr><td>Ironbél HB 0,5</td><td>1</td></tr>",
                            "<tr><td>Ironbél HI-POLIMER HB 0,7</td><td>1</td></tr>",
                            "<tr><td>iskolai csomagoló papír</td><td>1</td></tr>",
                            "<tr><td>Italtartó doboz</td><td>1</td></tr>",
                            "<tr><td>Játék autó</td><td>1</td></tr>",
                            "<tr><td>Játékautó Blisteres</td><td>1</td></tr>",
                            "<tr><td>Játékautó elemes</td><td>1</td></tr>",
                            "<tr><td>Játékautó mini</td><td>1</td></tr>",
                            "<tr><td>Jelzőkréta</td><td>1</td></tr>",
                            "<tr><td>Jól felkészültem-e - Fizika</td><td>1</td></tr>",
                            "<tr><td>Kapocskiszedő</td><td>1</td></tr>",
                            "<tr><td>Kártya mini Magyar</td><td>1</td></tr>",
                            "<tr><td>kék indigó</td><td>1</td></tr>",
                            "<tr><td>Képeslap  borítékos</td><td>1</td></tr>",
                            "<tr><td>Képeslap &quot;Nászajándék&quot;</td><td>1</td></tr>",
                            "<tr><td>Képeslap &quot;Részvét&quot;</td><td>1</td></tr>",
                            "<tr><td>Levélpapír szett natur, mintás</td><td>1</td></tr>",
                            "<tr><td>Levélpapír szett virágos</td><td>1</td></tr>",
                            "<tr><td>Logikai készlet</td><td>1</td></tr>",
                            "<tr><td>Lufi formázható</td><td>1</td></tr>",
                            "<tr><td>Lufi hullámos</td><td>1</td></tr>",
                            "<tr><td>Lyukasztó BOXER</td><td>1</td></tr>",
                            "<tr><td>Lyukasztó EAGLE</td><td>1</td></tr>",
                            "<tr><td>Mappa bemutató</td><td>1</td></tr>",
                            "<tr><td>Mappa bőr A5</td><td>1</td></tr>",
                            "<tr><td>Mappa müa A/4</td><td>1</td></tr>",
                            "<tr><td>Mappa PVC villámzáras</td><td>1</td></tr>",
                            "<tr><td>Mappa PVC villámzáras  képes</td><td>1</td></tr>",
                            "<tr><td>Márványos A/4</td><td>1</td></tr>",
                            "<tr><td>Matematika gyakorló 2</td><td>1</td></tr>",
                            "<tr><td>Matematika gyakorló 3</td><td>1</td></tr>",
                            "<tr><td>Matematika gyakorló 4</td><td>1</td></tr>",
                            "<tr><td>Matrica állatos</td><td>1</td></tr>",
                            "<tr><td>Matrica autóra H</td><td>1</td></tr>",
                            "<tr><td>Matrica motoros kicsi</td><td>1</td></tr>",
                            "<tr><td>Matrica Stickers nagy állatos</td><td>1</td></tr>",
                            "<tr><td>Matrica Stickers szíves</td><td>1</td></tr>",
                            "<tr><td>Matrica Test ékszer tattoo</td><td>1</td></tr>",
                            "<tr><td>Matrica tetoválás</td><td>1</td></tr>",
                            "<tr><td>Matrica tetoválós kicsi</td><td>1</td></tr>",
                            "<tr><td>Matrica világítós </td><td>1</td></tr>",
                            "<tr><td>Matrica WD kicsi</td><td>1</td></tr>",
                            "<tr><td>Meghívó állatos</td><td>1</td></tr>",
                            "<tr><td>Meghívó ballagási</td><td>1</td></tr>",
                            "<tr><td>Meghívó borítékos</td><td>1</td></tr>",
                            "<tr><td>Mikulás zacskó</td><td>1</td></tr>",
                            "<tr><td>Miliméterpapír</td><td>1</td></tr>",
                            "<tr><td>Műanyag állatok</td><td>1</td></tr>",
                            "<tr><td>Műanyag foszforeszkáló állat</td><td>1</td></tr>",
                            "<tr><td>Műanyag pohár 1 dl-es</td><td>1</td></tr>",
                            "<tr><td>Műanyag pohár 5 cl-es</td><td>1</td></tr>",
                            "<tr><td>Műnyomó 300g 17,5*20</td><td>1</td></tr>",
                            "<tr><td>Naptár 24-es</td><td>1</td></tr>",
                            "<tr><td>Naptárhát kicsi</td><td>1</td></tr>",
                            "<tr><td>Naptárhát nagy</td><td>1</td></tr>",
                            "<tr><td>Névjegytartó kicsi</td><td>1</td></tr>",
                            "<tr><td>Notesz A/5 sima</td><td>1</td></tr>",
                            "<tr><td>Notesz A/5 sima spirál</td><td>1</td></tr>",
                            "<tr><td>Notesz A/6 College</td><td>1</td></tr>",
                            "<tr><td>Notesz mintás</td><td>1</td></tr>",
                            "<tr><td>Notesz sima spirál College</td><td>1</td></tr>",
                            "<tr><td>női alsó</td><td>1</td></tr>",
                            "<tr><td>női farmer nadrág</td><td>1</td></tr>",
                            "<tr><td>női koktélruha</td><td>1</td></tr>",
                            "<tr><td>női szövet kabát</td><td>1</td></tr>",
                            "<tr><td>Oki toner C</td><td>1</td></tr>",
                            "<tr><td>Oklevél A/4 egyszínű</td><td>1</td></tr>",
                            "<tr><td>Oklevél A/4 színes</td><td>1</td></tr>",
                            "<tr><td>Olló gyerek </td><td>1</td></tr>",
                            "<tr><td>Olló Tagit 18 cm-es</td><td>1</td></tr>",
                            "<tr><td>Olló, iskolai</td><td>1</td></tr>",
                            "<tr><td>Öntapadó A/4</td><td>1</td></tr>",
                            "<tr><td>Öntapadós hologramos papír A/4</td><td>1</td></tr>",
                            "<tr><td>Öntapadős betűk</td><td>1</td></tr>",
                            "<tr><td>Összefoglaló feladatgyüjtemény számtech.</td><td>1</td></tr>",
                            "<tr><td>Papírcenti 100 cm-es</td><td>1</td></tr>",
                            "<tr><td>Papízsebkendő,10db Szindy</td><td>1</td></tr>",
                            "<tr><td>Pausz papír A/4</td><td>1</td></tr>",
                            "<tr><td>Pénztárgépsz. 2 pl. nem öníró</td><td>1</td></tr>",
                            "<tr><td>Pénztárgépszalag 2pl SC 57.5/60</td><td>1</td></tr>",
                            "<tr><td>Pill.ragasztó</td><td>1</td></tr>",
                            "<tr><td>Pixiron  UNI</td><td>1</td></tr>",
                            "<tr><td>Pixiron 0,7 Handy</td><td>1</td></tr>",
                            "<tr><td>Pixiron Centrum</td><td>1</td></tr>",
                            "<tr><td>Pixiron Handy fém</td><td>1</td></tr>",
                            "<tr><td>Pixiron Handy műanyag</td><td>1</td></tr>",
                            "<tr><td>Pixiron KOH-I-NOOR</td><td>1</td></tr>",
                            "<tr><td>Pixiron mini </td><td>1</td></tr>",
                            "<tr><td>Pixiron Penac</td><td>1</td></tr>",
                            "<tr><td>Pixiron Pentel színes</td><td>1</td></tr>",
                            "<tr><td>Plüss  QX állatok</td><td>1</td></tr>",
                            "<tr><td>Plüss kicsi</td><td>1</td></tr>",
                            "<tr><td>Plüss sárkány</td><td>1</td></tr>",
                            "<tr><td>Post-it 51×38 100 lapos</td><td>1</td></tr>",
                            "<tr><td>Post-it 75×75 100 lapos</td><td>1</td></tr>",
                            "<tr><td>Radír gyümölcsös</td><td>1</td></tr>",
                            "<tr><td>Radír Koh-i-nor 40</td><td>1</td></tr>",
                            "<tr><td>Radír KOH-I-NOR 80</td><td>1</td></tr>",
                            "<tr><td>Radír Maped</td><td>1</td></tr>",
                            "<tr><td>Radír stabilo</td><td>1</td></tr>",
                            "<tr><td>Radír Tikky 30 </td><td>1</td></tr>",
                            "<tr><td>Radír Tikky 40 </td><td>1</td></tr>",
                            "<tr><td>Radírtoll betét ER100</td><td>1</td></tr>",
                            "<tr><td>Radírtoll betét vastag</td><td>1</td></tr>",
                            "<tr><td>Ragasztó 8 g Pritt</td><td>1</td></tr>",
                            "<tr><td>Ragasztó 9 g Pax</td><td>1</td></tr>",
                            "<tr><td>Ragasztó Gyurma</td><td>1</td></tr>",
                            "<tr><td>Ragasztó kenőfejes Nebuló</td><td>1</td></tr>",
                            "<tr><td>Ragasztó kores</td><td>1</td></tr>",
                            "<tr><td>Ragasztó szalag KORES </td><td>1</td></tr>",
                            "<tr><td>Ragasztó, Technokol 35g kék</td><td>1</td></tr>",
                            "<tr><td>Ragasztó, Technokol 35g piros</td><td>1</td></tr>",
                            "<tr><td>Ragasztószalag  TIXO</td><td>1</td></tr>",
                            "<tr><td>Ragasztószalag 19 mm-es</td><td>1</td></tr>",
                            "<tr><td>Ragasztószalag 19 mm-es SCOTCH+ tépő</td><td>1</td></tr>",
                            "<tr><td>Ragasztószalag nagy 12 mm</td><td>1</td></tr>",
                            "<tr><td>Ragasztószalag széles barna</td><td>1</td></tr>",
                            "<tr><td>Rágógumi Orbit</td><td>1</td></tr>",
                            "<tr><td>Rajzlap A/4 10db ffam.</td><td>1</td></tr>",
                            "<tr><td>Rajzszeg</td><td>1</td></tr>",
                            "<tr><td>Rajzszeg színes</td><td>1</td></tr>",
                            "<tr><td>RAMba zárt világ</td><td>1</td></tr>",
                            "<tr><td>Regiszteres füzet A4</td><td>1</td></tr>",
                            "<tr><td>Regiszteres füzet A5 Hightech</td><td>1</td></tr>",
                            "<tr><td>Rovatolt papír 20 íves</td><td>1</td></tr>",
                            "<tr><td>sál</td><td>1</td></tr>",
                            "<tr><td>Selyemfényű karton A/4</td><td>1</td></tr>",
                            "<tr><td>Sorvezető</td><td>1</td></tr>",
                            "<tr><td>Sp.Füzet A/4  70es</td><td>1</td></tr>",
                            "<tr><td>Sp.Füzet A/4  perforált, lyuk.</td><td>1</td></tr>",
                            "<tr><td>Sp.Füzet A/4 70-as</td><td>1</td></tr>",
                            "<tr><td>Sp.Füzet A/5 70-es</td><td>1</td></tr>",
                            "<tr><td>Spirál 1/4 </td><td>1</td></tr>",
                            "<tr><td>Strandlabda </td><td>1</td></tr>",
                            "<tr><td>Szalvéta </td><td>1</td></tr>",
                            "<tr><td>Szalvéta dekor</td><td>1</td></tr>",
                            "<tr><td>Szalvéta egyszínű</td><td>1</td></tr>",
                            "<tr><td>Szalvéta Goma húsvéti</td><td>1</td></tr>",
                            "<tr><td>Szalvéta gyűjtőknek</td><td>1</td></tr>",
                            "<tr><td>Szalvéta kicsi virágos</td><td>1</td></tr>",
                            "<tr><td>Szám.tech. kicsiknek</td><td>1</td></tr>",
                            "<tr><td>Számegyenes</td><td>1</td></tr>",
                            "<tr><td>Számológép Roxin</td><td>1</td></tr>",
                            "<tr><td>Számológép tudományos</td><td>1</td></tr>",
                            "<tr><td>Számolókorong</td><td>1</td></tr>",
                            "<tr><td>Számolópálca</td><td>1</td></tr>",
                            "<tr><td>Szemetes zsák 60 literes</td><td>1</td></tr>",
                            "<tr><td>Szilvia csomagoló</td><td>1</td></tr>",
                            "<tr><td>Színes A/3 160 gr IQ</td><td>1</td></tr>",
                            "<tr><td>Színes ceruza 12 szín</td><td>1</td></tr>",
                            "<tr><td>Színes ceruza 6-os</td><td>1</td></tr>",
                            "<tr><td>Színes karton A4</td><td>1</td></tr>",
                            "<tr><td>Színes másoló a/4 80g</td><td>1</td></tr>",
                            "<tr><td>Színes ofszet B/4</td><td>1</td></tr>",
                            "<tr><td>Színes papír I.II-IV.V-VIII-ig</td><td>1</td></tr>",
                            "<tr><td>Szorzótábla műanyag</td><td>1</td></tr>",
                            "<tr><td>Szótárfüzet Lizzy</td><td>1</td></tr>",
                            "<tr><td>Szögmérő 180 fokos műa.</td><td>1</td></tr>",
                            "<tr><td>Szögmérő papír</td><td>1</td></tr>",
                            "<tr><td>Szögmérő színes</td><td>1</td></tr>",
                            "<tr><td>Golyóstoll + ceruza Twister 2in1</td><td>1</td></tr>",
                            "<tr><td>Golyóstoll 3 funkciós </td><td>1</td></tr>",
                            "<tr><td>Golyóstoll háromfunkciós</td><td>1</td></tr>",
                            "<tr><td>Golyóstoll háromszög</td><td>1</td></tr>",
                            "<tr><td>Golyóstoll illatos ICO</td><td>1</td></tr>",
                            "<tr><td>Golyóstoll INOXCROM</td><td>1</td></tr>",
                            "<tr><td>Golyóstoll kétfunkciós ICO</td><td>1</td></tr>",
                            "<tr><td>Golyóstoll kétszínű</td><td>1</td></tr>",
                            "<tr><td>Golyóstoll kupakos piros</td><td>1</td></tr>",
                            "<tr><td>Golyóstoll levélbontós</td><td>1</td></tr>",
                            "<tr><td>Golyóstoll Montex Hytone</td><td>1</td></tr>",
                            "<tr><td>Golyóstoll Parker tokban</td><td>1</td></tr>",
                            "<tr><td>Golyóstoll Pax tip.</td><td>1</td></tr>",
                            "<tr><td>Golyóstoll penac</td><td>1</td></tr>",
                            "<tr><td>Golyóstoll Stabiló 308</td><td>1</td></tr>",
                            "<tr><td>Golyóstoll Stabilo piros</td><td>1</td></tr>",
                            "<tr><td>Golyóstoll UNI átlátszó</td><td>1</td></tr>",
                            "<tr><td>Golyóstoll UNI gumis</td><td>1</td></tr>",
                            "<tr><td>Golyóstoll UNI laknock</td><td>1</td></tr>",
                            "<tr><td>Golyóstoll UNIBALL 07</td><td>1</td></tr>",
                            "<tr><td>Golyóstoll Zebra 301</td><td>1</td></tr>",
                            "<tr><td>Golyóstoll Zebra mini</td><td>1</td></tr>",
                            "<tr><td>Golyóstoll Zebra new hard</td><td>1</td></tr>",
                            "<tr><td>Golyóstoll Zodiák</td><td>1</td></tr>",
                            "<tr><td>Gumigyűrű</td><td>1</td></tr>",
                            "<tr><td>Gumilabda közepes</td><td>1</td></tr>",
                            "<tr><td>Gumis mappa </td><td>1</td></tr>",
                            "<tr><td>Gumis mappa csomagolt</td><td>1</td></tr>",
                            "<tr><td>Gumis mappa fóliázott állatos</td><td>1</td></tr>",
                            "<tr><td>Gumis mappa Köbüki</td><td>1</td></tr>",
                            "<tr><td>gyermek cipő (fiú)</td><td>1</td></tr>",
                            "<tr><td>gyermek cipő (lány)</td><td>1</td></tr>",
                            "<tr><td>gyermek csizma (fiú)</td><td>1</td></tr>",
                            "<tr><td>gyermek csizma (lány)</td><td>1</td></tr>",
                            "<tr><td>gyermek farmer nadrág (fiú)</td><td>1</td></tr>",
                            "<tr><td>gyermek farmer nadrág (lány)</td><td>1</td></tr>",
                            "<tr><td>gyermek kabát (fiú)</td><td>1</td></tr>",
                            "<tr><td>gyermek kabát (lány)</td><td>1</td></tr>",
                            "<tr><td>gyermek pamut nadrág (fiú)</td><td>1</td></tr>",
                            "<tr><td>gyermek pamut nadrág (lány)</td><td>1</td></tr>",
                            "<tr><td>gyermek póló (fiú)</td><td>1</td></tr>",
                            "<tr><td>gyermek póló (lány)</td><td>1</td></tr>",
                            "<tr><td>gyermek szandál (fiú)</td><td>1</td></tr>",
                            "<tr><td>gyermek szandál (lány)</td><td>1</td></tr>",
                            "<tr><td>Gyorsfűző dosszié fehér</td><td>1</td></tr>",
                            "<tr><td>Emlékkönyv lakatos</td><td>1</td></tr>",
                            "<tr><td>Emléklap A/5</td><td>1</td></tr>",
                            "<tr><td>Érettségi felv. fel. Biológia</td><td>1</td></tr>",
                            "<tr><td>Érettségi felv. fel. Fizika</td><td>1</td></tr>",
                            "<tr><td>Érettségi felv. fel. Matematika</td><td>1</td></tr>",
                            "<tr><td>Esküvői meghívó</td><td>1</td></tr>",
                            "<tr><td>Fax papír 15 m</td><td>1</td></tr>",
                            "<tr><td>Fehér másoló A/3</td><td>1</td></tr>",
                            "<tr><td>Fehér másoló A/4</td><td>1</td></tr>",
                            "<tr><td>félfamentes rajzlap A4 (10 lap)</td><td>1</td></tr>",
                            "<tr><td>Fénymásoló papír DataCopy</td><td>1</td></tr>",
                            "<tr><td>Fénymásoló papír GetCopy</td><td>1</td></tr>",
                            "<tr><td>Fénymásoló papír Qconnect</td><td>1</td></tr>",
                            "<tr><td>férfi farmer nadrág</td><td>1</td></tr>",
                            "<tr><td>férfi ing</td><td>1</td></tr>",
                            "<tr><td>férfi szövet kabát</td><td>1</td></tr>",
                            "<tr><td>férfi szövet nadrág</td><td>1</td></tr>",
                            "<tr><td>Festékpatron BCI-3BK</td><td>1</td></tr>",
                            "<tr><td>Filctoll </td><td>1</td></tr>",
                            "<tr><td>Filctoll CD író</td><td>1</td></tr>",
                            "<tr><td>Filctoll document pen</td><td>1</td></tr>",
                            "<tr><td>Filctoll Edding 750</td><td>1</td></tr>",
                            "<tr><td>Filctoll Marvy alkoholos</td><td>1</td></tr>",
                            "<tr><td>Filctoll permanent vastag</td><td>1</td></tr>",
                            "<tr><td>Filctoll supra fine</td><td>1</td></tr>",
                            "<tr><td>Filctoll TINTEN PEN</td><td>1</td></tr>",
                            "<tr><td>Filctoll vastag ARTIP</td><td>1</td></tr>",
                            "<tr><td>Filctoll, alkoholos Centropen</td><td>1</td></tr>",
                            "<tr><td>Filctoll, alkoholosOHP F-M-C</td><td>1</td></tr>",
                            "<tr><td>Filctoll, textil Edding 4500</td><td>1</td></tr>",
                            "<tr><td>fiú alsó</td><td>1</td></tr>",
                            "<tr><td>fiú harisnya</td><td>1</td></tr>",
                            "<tr><td>fiú ünneplős ruha</td><td>1</td></tr>",
                            "<tr><td>fiú zokni</td><td>1</td></tr>",
                            "<tr><td>Fizika</td><td>1</td></tr>",
                            "<tr><td>Fizika 13 éveseknek</td><td>1</td></tr>",
                            "<tr><td>Fizika munkafüzet 13 év.</td><td>1</td></tr>",
                            "<tr><td>Fizika munkafüzet 14 év.</td><td>1</td></tr>",
                            "<tr><td>Fizikai feladatok és tévedések</td><td>1</td></tr>",
                            "<tr><td>Floppy lemez</td><td>1</td></tr>",
                            "<tr><td>Fogalmazás lépésről lépésre</td><td>1</td></tr>",
                            "<tr><td>Fólia tasakos A4 125 mik.</td><td>1</td></tr>",
                            "<tr><td>Fólia tasakos A4 80 mik.</td><td>1</td></tr>",
                            "<tr><td>Fólia tasakos A4100 mik.</td><td>1</td></tr>",
                            "<tr><td>Fotópapír A/4 fényes</td><td>1</td></tr>",
                            "<tr><td>Füzet  A/4 </td><td>1</td></tr>",
                            "<tr><td>Füzet  A4 mintás</td><td>1</td></tr>",
                            "<tr><td>Füzet 31-32 szótár</td><td>1</td></tr>",
                            "<tr><td>Füzet A/5 hangjegy 36/16</td><td>1</td></tr>",
                            "<tr><td>Füzet A/5, mintás</td><td>1</td></tr>",
                            "<tr><td>Füzet A5 1-8 osz.-ig</td><td>1</td></tr>",
                            "<tr><td>Füzetborító A/4 átlátszó</td><td>1</td></tr>",
                            "<tr><td>Füzetborító A/4 mintás</td><td>1</td></tr>",
                            "<tr><td>Füzetborító átlátszó A5</td><td>1</td></tr>",
                            "<tr><td>Füzetborító mesefig.</td><td>1</td></tr>",
                            "<tr><td>Füzetborító öntapadó kicsi</td><td>1</td></tr>",
                            "<tr><td>Füzetborító öntapadó tekercses</td><td>1</td></tr>",
                            "<tr><td>Füzetborító öntapadós nagy</td><td>1</td></tr>",
                            "<tr><td>Füzettartó A/4</td><td>1</td></tr>",
                            "<tr><td>Ajándék cs. tasak közepes</td><td>1</td></tr>",
                            "<tr><td>Ajándék cs. tasak mintás kicsi</td><td>1</td></tr>",
                            "<tr><td>Ajándék cs. tasak mintás nagy</td><td>1</td></tr>",
                            "<tr><td>Ajándék cs. tasak virágos nagy</td><td>1</td></tr>",
                            "<tr><td>Ajándék csom. 100x70 metál</td><td>1</td></tr>",
                            "<tr><td>Ajándék csom. 150x70</td><td>1</td></tr>",
                            "<tr><td>Ajándék csom. 200x70</td><td>1</td></tr>",
                            "<tr><td>Ajándék csom. 50x70 húsvéti</td><td>1</td></tr>",
                            "<tr><td>Ajándék csom. 70x50 metál</td><td>1</td></tr>",
                            "<tr><td>Ajándék csom. gyűrt</td><td>1</td></tr>",
                            "<tr><td>Ajándék csom. gyűrt 50x70 </td><td>1</td></tr>",
                            "<tr><td>Ajándék csom. Krepp</td><td>1</td></tr>",
                            "<tr><td>Ajándék csom. nagy  </td><td>1</td></tr>",
                            "<tr><td>Ajándék csom. vékony</td><td>1</td></tr>",
                            "<tr><td>Ajándék csomagoló tasak</td><td>1</td></tr>",
                            "<tr><td>Ajándék csomagoló tasak lézeres</td><td>1</td></tr>",
                            "<tr><td>Álarc</td><td>1</td></tr>",
                            "<tr><td>Álarc fejdísz</td><td>1</td></tr>",
                            "<tr><td>Álarc szemüveg</td><td>1</td></tr>",
                            "<tr><td>Álló irattartó</td><td>1</td></tr>",
                            "<tr><td>Álló irattartó karton</td><td>1</td></tr>",
                            "<tr><td>Alufólia 10 m-es</td><td>1</td></tr>",
                            "<tr><td>Alufólia 20 m-es</td><td>1</td></tr>",
                            "<tr><td>Anyanyelvi gyakorló 2</td><td>1</td></tr>",
                            "<tr><td>Anyanyelvi gyakorló 3</td><td>1</td></tr>",
                            "<tr><td>Árazószalag </td><td>1</td></tr>",
                            "<tr><td>Átírótömb A/6</td><td>1</td></tr>",
                            "<tr><td>Beíró A/5 kockás</td><td>1</td></tr>",
                            "<tr><td>Beírókönyv A4</td><td>1</td></tr>",
                            "<tr><td>Beírókönyv A5 </td><td>1</td></tr>",
                            "<tr><td>Bélyegző IDEAL 50</td><td>1</td></tr>",
                            "<tr><td>Bélyegző párna</td><td>1</td></tr>",
                            "<tr><td>Bélyegző pocket</td><td>1</td></tr>",
                            "<tr><td>Bélyegző RP 18-47</td><td>1</td></tr>",
                            "<tr><td>Bélyegzőfesték </td><td>1</td></tr>",
                            "<tr><td>Bérlet tok</td><td>1</td></tr>",
                            "<tr><td>Betűtartó sin</td><td>1</td></tr>",
                            "<tr><td>Bevételi pénztárbizonylat 3×25</td><td>1</td></tr>",
                            "<tr><td>Boríték B/4-es</td><td>1</td></tr>",
                            "<tr><td>Boríték C/4-es</td><td>1</td></tr>",
                            "<tr><td>Boríték LA 4 francia</td><td>1</td></tr>",
                            "<tr><td>Boríték LC 5</td><td>1</td></tr>",
                            "<tr><td>Boríték LC 6</td><td>1</td></tr>",
                            "<tr><td>Boríték légp. kicsi</td><td>1</td></tr>",
                            "<tr><td>Boríték mintás</td><td>1</td></tr>",
                            "<tr><td>CD tartó tok</td><td>1</td></tr>",
                            "<tr><td>Celofán</td><td>1</td></tr>",
                            "<tr><td>Celofán 50 db-os</td><td>1</td></tr>",
                            "<tr><td>Ceruza 2H-3B Koh-i-nor</td><td>1</td></tr>",
                            "<tr><td>Ceruza 2H-4B</td><td>1</td></tr>",
                            "<tr><td>Ceruza arany, ezüst</td><td>1</td></tr>",
                            "<tr><td>Ceruza Conté zöld</td><td>1</td></tr>",
                            "<tr><td>Ceruza Cseh</td><td>1</td></tr>",
                            "<tr><td>Ceruza háromszög </td><td>1</td></tr>",
                            "<tr><td>Ceruza HB radiros</td><td>1</td></tr>",
                            "<tr><td>Ceruza kártyás</td><td>1</td></tr>",
                            "<tr><td>Ceruza kínai</td><td>1</td></tr>",
                            "<tr><td>Ceruza piros-kék</td><td>1</td></tr>",
                            "<tr><td>Ceruza piros-kék vékony</td><td>1</td></tr>",
                            "<tr><td>Ceruza Progresso</td><td>1</td></tr>",
                            "<tr><td>Ceruza radíros kínai</td><td>1</td></tr>",
                            "<tr><td>Ceruza smaragd</td><td>1</td></tr>",
                            "<tr><td>Ceruza stabilo opera</td><td>1</td></tr>",
                            "<tr><td>Ceruza stabilo swano</td><td>1</td></tr>",
                            "<tr><td>Ceruza szén</td><td>1</td></tr>",
                            "<tr><td>Ceruza szorzótáblás</td><td>1</td></tr>",
                            "<tr><td>Ceruza zöld színű</td><td>1</td></tr>",
                            "<tr><td>Ceruzafogó</td><td>1</td></tr>",
                            "<tr><td>Címke 8 db-os</td><td>1</td></tr>",
                            "<tr><td>Címke egyszínű</td><td>1</td></tr>",
                            "<tr><td>Címke WD. állat</td><td>1</td></tr>",
                            "<tr><td>Color Copy 160 g-os </td><td>1</td></tr>",
                            "<tr><td>Color Copy A/4 250 g</td><td>1</td></tr>",
                            "<tr><td>Color Copy A4 120 g</td><td>1</td></tr>",
                            "<tr><td>Color Copy A4 200 g</td><td>1</td></tr>",
                            "<tr><td>Dekorációs karton</td><td>1</td></tr>",
                            "<tr><td>Dekorációs karton arany, ezüst</td><td>1</td></tr>",
                            "<tr><td>Dipa A/4 keretezett</td><td>1</td></tr>",
                            "<tr><td>Díszdoboz kar.</td><td>1</td></tr>",
                            "<tr><td>Díszdoboz tollnak 2 db-os</td><td>1</td></tr>",
                            "<tr><td>Díszdoboz tollnak 2 db-os keskeny</td><td>1</td></tr>",
                            "<tr><td>Diszkötöző szalag arany</td><td>1</td></tr>",
                            "<tr><td>Díszkötöző szalag metál kicsi</td><td>1</td></tr>",
                            "<tr><td>Díszkötöző szalag metál nagy</td><td>1</td></tr>",
                            "<tr><td>Díszkötöző szalag vékony</td><td>1</td></tr>",
                            "<tr><td>Diszkötöző széles szalag</td><td>1</td></tr>",
                            "<tr><td>Dvd</td><td>1</td></tr>",
                            "<tr><td>Ecset Centrum 10,11,12</td><td>1</td></tr>",
                            "<tr><td>Ecset Centrum 7,8,9</td><td>1</td></tr>",
                            "<tr><td>Ecset Deák 2-es</td><td>1</td></tr>",
                            "<tr><td>Ecset Lizzy 10-es</td><td>1</td></tr>",
                            "<tr><td>Ecset Nebuló 10-es</td><td>1</td></tr>",
                            "<tr><td>Ecset Nebulo 4-es</td><td>1</td></tr>",
                            "<tr><td>Ecsetkészlet</td><td>1</td></tr>",
                            "<tr><td>Egészségügyi könyv</td><td>1</td></tr>",
                            "<tr><td>Ellenőrzőborító</td><td>1</td></tr>",
                            "<tr><td>Előlap spirálhoz</td><td>1</td></tr>",
                            "</table>"
                        ]
                    }
                }
            ],
            "execution_count": 20
        },
        {
            "cell_type": "code",
            "source": [
                "SELECT TOP 10 megnevezes AS string, \r\n",
                "        LEN(megnevezes) AS string_length\r\n",
                "FROM termek\r\n",
                "GROUP BY megnevezes\r\n",
                "ORDER BY 2 DESC"
            ],
            "metadata": {
                "azdata_cell_guid": "af2a42b8-774c-4d6f-a0a8-955e1050990e",
                "language": "sql"
            },
            "outputs": [
                {
                    "output_type": "display_data",
                    "data": {
                        "text/html": "(10 rows affected)"
                    },
                    "metadata": {}
                },
                {
                    "output_type": "display_data",
                    "data": {
                        "text/html": "Total execution time: 00:00:00.011"
                    },
                    "metadata": {}
                },
                {
                    "output_type": "execute_result",
                    "metadata": {},
                    "execution_count": 28,
                    "data": {
                        "application/vnd.dataresource+json": {
                            "schema": {
                                "fields": [
                                    {
                                        "name": "string"
                                    },
                                    {
                                        "name": "string_length"
                                    }
                                ]
                            },
                            "data": [
                                {
                                    "string": "A föld amelyen élünk - Távoli földrészek",
                                    "string_length": "40"
                                },
                                {
                                    "string": "Összefoglaló feladatgyüjtemény számtech.",
                                    "string_length": "40"
                                },
                                {
                                    "string": "A föld amelyen élünk - Hazánk földrajza",
                                    "string_length": "39"
                                },
                                {
                                    "string": "A föld amelyen élünk - Európa földrajza",
                                    "string_length": "39"
                                },
                                {
                                    "string": "G. toll betét UNI lachnok Fine SA-7C",
                                    "string_length": "36"
                                },
                                {
                                    "string": "Ragasztószalag 19 mm-es SCOTCH+ tépő",
                                    "string_length": "36"
                                },
                                {
                                    "string": "A föld amelyen élünk - munkafüzet",
                                    "string_length": "33"
                                },
                                {
                                    "string": "Díszdoboz tollnak 2 db-os keskeny",
                                    "string_length": "33"
                                },
                                {
                                    "string": "Golyóstoll + ceruza Twister 2in1",
                                    "string_length": "32"
                                },
                                {
                                    "string": "Ajándék cs. tasak italos, fólia",
                                    "string_length": "31"
                                }
                            ]
                        },
                        "text/html": [
                            "<table>",
                            "<tr><th>string</th><th>string_length</th></tr>",
                            "<tr><td>A föld amelyen élünk - Távoli földrészek</td><td>40</td></tr>",
                            "<tr><td>Összefoglaló feladatgyüjtemény számtech.</td><td>40</td></tr>",
                            "<tr><td>A föld amelyen élünk - Hazánk földrajza</td><td>39</td></tr>",
                            "<tr><td>A föld amelyen élünk - Európa földrajza</td><td>39</td></tr>",
                            "<tr><td>G. toll betét UNI lachnok Fine SA-7C</td><td>36</td></tr>",
                            "<tr><td>Ragasztószalag 19 mm-es SCOTCH+ tépő</td><td>36</td></tr>",
                            "<tr><td>A föld amelyen élünk - munkafüzet</td><td>33</td></tr>",
                            "<tr><td>Díszdoboz tollnak 2 db-os keskeny</td><td>33</td></tr>",
                            "<tr><td>Golyóstoll + ceruza Twister 2in1</td><td>32</td></tr>",
                            "<tr><td>Ajándék cs. tasak italos, fólia</td><td>31</td></tr>",
                            "</table>"
                        ]
                    }
                }
            ],
            "execution_count": 28
        },
        {
            "cell_type": "code",
            "source": [
                "SELECT oszlop_tipus,\r\n",
                "    COUNT(*) db_szam\r\n",
                "FROM \r\n",
                "    (SELECT \r\n",
                "        CASE WHEN leiras IS NULL THEN 'Null'\r\n",
                "            WHEN LEN(leiras) = 0 THEN 'Empty'\r\n",
                "            ELSE 'Non Empty' \r\n",
                "            END AS oszlop_tipus\r\n",
                "        FROM termek) rows\r\n",
                "GROUP BY oszlop_tipus"
            ],
            "metadata": {
                "azdata_cell_guid": "1f81c683-076c-4b40-9e9f-183741f22b0a",
                "language": "sql"
            },
            "outputs": [
                {
                    "output_type": "display_data",
                    "data": {
                        "text/html": "(2 rows affected)"
                    },
                    "metadata": {}
                },
                {
                    "output_type": "display_data",
                    "data": {
                        "text/html": "Total execution time: 00:00:00.009"
                    },
                    "metadata": {}
                },
                {
                    "output_type": "execute_result",
                    "metadata": {},
                    "execution_count": 15,
                    "data": {
                        "application/vnd.dataresource+json": {
                            "schema": {
                                "fields": [
                                    {
                                        "name": "oszlop_tipus"
                                    },
                                    {
                                        "name": "db_szam"
                                    }
                                ]
                            },
                            "data": [
                                {
                                    "oszlop_tipus": "Non Empty",
                                    "db_szam": "24"
                                },
                                {
                                    "oszlop_tipus": "Null",
                                    "db_szam": "527"
                                }
                            ]
                        },
                        "text/html": [
                            "<table>",
                            "<tr><th>oszlop_tipus</th><th>db_szam</th></tr>",
                            "<tr><td>Non Empty</td><td>24</td></tr>",
                            "<tr><td>Null</td><td>527</td></tr>",
                            "</table>"
                        ]
                    }
                }
            ],
            "execution_count": 15
        },
        {
            "cell_type": "code",
            "source": [
                "SELECT MIN(keszlet) AS 'Legkisebb mennyiség', \r\n",
                "       MAX(keszlet) AS 'Legnagyobb mennyiség', \r\n",
                "       AVG(keszlet) AS 'Átlagos db-szám', \r\n",
                "       STDEV(keszlet) AS 'Normál eltérés a db-számok között/szórás'\r\n",
                "FROM termek\r\n",
                "WHERE keszlet IS NOT NULL"
            ],
            "metadata": {
                "azdata_cell_guid": "c2a29331-a5e2-4cd5-8767-a069ff100bc3",
                "language": "sql"
            },
            "outputs": [
                {
                    "output_type": "display_data",
                    "data": {
                        "text/html": "(1 row affected)"
                    },
                    "metadata": {}
                },
                {
                    "output_type": "display_data",
                    "data": {
                        "text/html": "Total execution time: 00:00:00.011"
                    },
                    "metadata": {}
                },
                {
                    "output_type": "execute_result",
                    "metadata": {},
                    "execution_count": 16,
                    "data": {
                        "application/vnd.dataresource+json": {
                            "schema": {
                                "fields": [
                                    {
                                        "name": "Legkisebb mennyiség"
                                    },
                                    {
                                        "name": "Legnagyobb mennyiség"
                                    },
                                    {
                                        "name": "Átlagos db-szám"
                                    },
                                    {
                                        "name": "Normál eltérés a db-számok között/szórás"
                                    }
                                ]
                            },
                            "data": [
                                {
                                    "Legkisebb mennyiség": "0",
                                    "Legnagyobb mennyiség": "50000",
                                    "Átlagos db-szám": "1585,9909255898367",
                                    "Normál eltérés a db-számok között/szórás": "4604,3876191291965"
                                }
                            ]
                        },
                        "text/html": [
                            "<table>",
                            "<tr><th>Legkisebb mennyiség</th><th>Legnagyobb mennyiség</th><th>Átlagos db-szám</th><th>Normál eltérés a db-számok között/szórás</th></tr>",
                            "<tr><td>0</td><td>50000</td><td>1585,9909255898367</td><td>4604,3876191291965</td></tr>",
                            "</table>"
                        ]
                    }
                }
            ],
            "execution_count": 16
        },
        {
            "cell_type": "code",
            "source": [
                "SELECT TOP 10\r\n",
                "    keszlet AS value, \r\n",
                "    Sum(keszlet) osszesen\r\n",
                "from termek\r\n",
                "WHERE keszlet IS NOT null\r\n",
                "GROUP BY keszlet\r\n",
                "ORDER BY Sum(keszlet) desc"
            ],
            "metadata": {
                "azdata_cell_guid": "e7b98e4e-7163-4fd4-8e1b-9fb3db34f51b",
                "language": "sql"
            },
            "outputs": [
                {
                    "output_type": "display_data",
                    "data": {
                        "text/html": "(10 rows affected)"
                    },
                    "metadata": {}
                },
                {
                    "output_type": "display_data",
                    "data": {
                        "text/html": "Total execution time: 00:00:00.010"
                    },
                    "metadata": {}
                },
                {
                    "output_type": "execute_result",
                    "metadata": {},
                    "execution_count": 24,
                    "data": {
                        "application/vnd.dataresource+json": {
                            "schema": {
                                "fields": [
                                    {
                                        "name": "value"
                                    },
                                    {
                                        "name": "osszesen"
                                    }
                                ]
                            },
                            "data": [
                                {
                                    "value": "50000",
                                    "osszesen": "100000"
                                },
                                {
                                    "value": "10000",
                                    "osszesen": "40000"
                                },
                                {
                                    "value": "40000",
                                    "osszesen": "40000"
                                },
                                {
                                    "value": "35000",
                                    "osszesen": "35000"
                                },
                                {
                                    "value": "30000",
                                    "osszesen": "30000"
                                },
                                {
                                    "value": "2000",
                                    "osszesen": "26000"
                                },
                                {
                                    "value": "26000",
                                    "osszesen": "26000"
                                },
                                {
                                    "value": "25000",
                                    "osszesen": "25000"
                                },
                                {
                                    "value": "8000",
                                    "osszesen": "24000"
                                },
                                {
                                    "value": "22000",
                                    "osszesen": "22000"
                                }
                            ]
                        },
                        "text/html": [
                            "<table>",
                            "<tr><th>value</th><th>osszesen</th></tr>",
                            "<tr><td>50000</td><td>100000</td></tr>",
                            "<tr><td>10000</td><td>40000</td></tr>",
                            "<tr><td>40000</td><td>40000</td></tr>",
                            "<tr><td>35000</td><td>35000</td></tr>",
                            "<tr><td>30000</td><td>30000</td></tr>",
                            "<tr><td>2000</td><td>26000</td></tr>",
                            "<tr><td>26000</td><td>26000</td></tr>",
                            "<tr><td>25000</td><td>25000</td></tr>",
                            "<tr><td>8000</td><td>24000</td></tr>",
                            "<tr><td>22000</td><td>22000</td></tr>",
                            "</table>"
                        ]
                    }
                }
            ],
            "execution_count": 24
        },
        {
            "cell_type": "code",
            "source": [
                "SELECT \r\n",
                "    felvitel AS value, \r\n",
                "    COUNT(*) row_count\r\n",
                "from termek\r\n",
                "WHERE felvitel IS NOT null\r\n",
                "GROUP BY felvitel\r\n",
                "ORDER BY COUNT(*) desc"
            ],
            "metadata": {
                "azdata_cell_guid": "c2a82a05-201a-46f2-afc9-d5c966140f22",
                "language": "sql"
            },
            "outputs": [
                {
                    "output_type": "display_data",
                    "data": {
                        "text/html": "(61 rows affected)"
                    },
                    "metadata": {}
                },
                {
                    "output_type": "display_data",
                    "data": {
                        "text/html": "Total execution time: 00:00:00.012"
                    },
                    "metadata": {}
                },
                {
                    "output_type": "execute_result",
                    "metadata": {},
                    "execution_count": 27,
                    "data": {
                        "application/vnd.dataresource+json": {
                            "schema": {
                                "fields": [
                                    {
                                        "name": "value"
                                    },
                                    {
                                        "name": "row_count"
                                    }
                                ]
                            },
                            "data": [
                                {
                                    "value": "2016-07-23",
                                    "row_count": "33"
                                },
                                {
                                    "value": "2016-07-22",
                                    "row_count": "30"
                                },
                                {
                                    "value": "2016-07-21",
                                    "row_count": "25"
                                },
                                {
                                    "value": "2016-07-27",
                                    "row_count": "20"
                                },
                                {
                                    "value": "2016-07-28",
                                    "row_count": "19"
                                },
                                {
                                    "value": "2016-08-13",
                                    "row_count": "17"
                                },
                                {
                                    "value": "2016-07-25",
                                    "row_count": "15"
                                },
                                {
                                    "value": "2016-07-26",
                                    "row_count": "15"
                                },
                                {
                                    "value": "2016-08-01",
                                    "row_count": "15"
                                },
                                {
                                    "value": "2016-07-29",
                                    "row_count": "14"
                                },
                                {
                                    "value": "2016-07-24",
                                    "row_count": "14"
                                },
                                {
                                    "value": "2016-07-14",
                                    "row_count": "14"
                                },
                                {
                                    "value": "2016-07-17",
                                    "row_count": "13"
                                },
                                {
                                    "value": "2016-07-18",
                                    "row_count": "13"
                                },
                                {
                                    "value": "2016-07-19",
                                    "row_count": "13"
                                },
                                {
                                    "value": "2016-07-20",
                                    "row_count": "13"
                                },
                                {
                                    "value": "2016-08-08",
                                    "row_count": "13"
                                },
                                {
                                    "value": "2016-08-09",
                                    "row_count": "13"
                                },
                                {
                                    "value": "2016-08-10",
                                    "row_count": "13"
                                },
                                {
                                    "value": "2016-08-20",
                                    "row_count": "13"
                                },
                                {
                                    "value": "2016-08-11",
                                    "row_count": "12"
                                },
                                {
                                    "value": "2016-07-12",
                                    "row_count": "12"
                                },
                                {
                                    "value": "2016-07-30",
                                    "row_count": "12"
                                },
                                {
                                    "value": "2016-07-11",
                                    "row_count": "11"
                                },
                                {
                                    "value": "2016-08-02",
                                    "row_count": "11"
                                },
                                {
                                    "value": "2016-08-12",
                                    "row_count": "11"
                                },
                                {
                                    "value": "2016-08-06",
                                    "row_count": "10"
                                },
                                {
                                    "value": "2016-08-21",
                                    "row_count": "9"
                                },
                                {
                                    "value": "2016-08-03",
                                    "row_count": "9"
                                },
                                {
                                    "value": "2016-07-15",
                                    "row_count": "8"
                                },
                                {
                                    "value": "2016-07-01",
                                    "row_count": "8"
                                },
                                {
                                    "value": "2016-07-09",
                                    "row_count": "8"
                                },
                                {
                                    "value": "2016-08-17",
                                    "row_count": "7"
                                },
                                {
                                    "value": "2016-08-22",
                                    "row_count": "6"
                                },
                                {
                                    "value": "2016-08-29",
                                    "row_count": "6"
                                },
                                {
                                    "value": "2016-07-10",
                                    "row_count": "6"
                                },
                                {
                                    "value": "2016-07-02",
                                    "row_count": "6"
                                },
                                {
                                    "value": "2016-07-16",
                                    "row_count": "6"
                                },
                                {
                                    "value": "2016-07-13",
                                    "row_count": "6"
                                },
                                {
                                    "value": "2016-08-05",
                                    "row_count": "5"
                                },
                                {
                                    "value": "2016-07-31",
                                    "row_count": "5"
                                },
                                {
                                    "value": "2016-08-26",
                                    "row_count": "5"
                                },
                                {
                                    "value": "2016-07-05",
                                    "row_count": "4"
                                },
                                {
                                    "value": "2016-07-06",
                                    "row_count": "4"
                                },
                                {
                                    "value": "2016-07-07",
                                    "row_count": "4"
                                },
                                {
                                    "value": "2016-07-08",
                                    "row_count": "3"
                                },
                                {
                                    "value": "2016-08-04",
                                    "row_count": "2"
                                },
                                {
                                    "value": "2016-08-19",
                                    "row_count": "2"
                                },
                                {
                                    "value": "2016-08-23",
                                    "row_count": "2"
                                },
                                {
                                    "value": "2016-08-24",
                                    "row_count": "2"
                                },
                                {
                                    "value": "2016-08-25",
                                    "row_count": "2"
                                },
                                {
                                    "value": "2016-08-07",
                                    "row_count": "2"
                                },
                                {
                                    "value": "2016-08-14",
                                    "row_count": "2"
                                },
                                {
                                    "value": "2016-08-15",
                                    "row_count": "1"
                                },
                                {
                                    "value": "2016-08-16",
                                    "row_count": "1"
                                },
                                {
                                    "value": "2016-08-18",
                                    "row_count": "1"
                                },
                                {
                                    "value": "2016-08-27",
                                    "row_count": "1"
                                },
                                {
                                    "value": "2016-08-28",
                                    "row_count": "1"
                                },
                                {
                                    "value": "2016-09-03",
                                    "row_count": "1"
                                },
                                {
                                    "value": "2016-12-11",
                                    "row_count": "1"
                                },
                                {
                                    "value": "2016-07-04",
                                    "row_count": "1"
                                }
                            ]
                        },
                        "text/html": [
                            "<table>",
                            "<tr><th>value</th><th>row_count</th></tr>",
                            "<tr><td>2016-07-23</td><td>33</td></tr>",
                            "<tr><td>2016-07-22</td><td>30</td></tr>",
                            "<tr><td>2016-07-21</td><td>25</td></tr>",
                            "<tr><td>2016-07-27</td><td>20</td></tr>",
                            "<tr><td>2016-07-28</td><td>19</td></tr>",
                            "<tr><td>2016-08-13</td><td>17</td></tr>",
                            "<tr><td>2016-07-25</td><td>15</td></tr>",
                            "<tr><td>2016-07-26</td><td>15</td></tr>",
                            "<tr><td>2016-08-01</td><td>15</td></tr>",
                            "<tr><td>2016-07-29</td><td>14</td></tr>",
                            "<tr><td>2016-07-24</td><td>14</td></tr>",
                            "<tr><td>2016-07-14</td><td>14</td></tr>",
                            "<tr><td>2016-07-17</td><td>13</td></tr>",
                            "<tr><td>2016-07-18</td><td>13</td></tr>",
                            "<tr><td>2016-07-19</td><td>13</td></tr>",
                            "<tr><td>2016-07-20</td><td>13</td></tr>",
                            "<tr><td>2016-08-08</td><td>13</td></tr>",
                            "<tr><td>2016-08-09</td><td>13</td></tr>",
                            "<tr><td>2016-08-10</td><td>13</td></tr>",
                            "<tr><td>2016-08-20</td><td>13</td></tr>",
                            "<tr><td>2016-08-11</td><td>12</td></tr>",
                            "<tr><td>2016-07-12</td><td>12</td></tr>",
                            "<tr><td>2016-07-30</td><td>12</td></tr>",
                            "<tr><td>2016-07-11</td><td>11</td></tr>",
                            "<tr><td>2016-08-02</td><td>11</td></tr>",
                            "<tr><td>2016-08-12</td><td>11</td></tr>",
                            "<tr><td>2016-08-06</td><td>10</td></tr>",
                            "<tr><td>2016-08-21</td><td>9</td></tr>",
                            "<tr><td>2016-08-03</td><td>9</td></tr>",
                            "<tr><td>2016-07-15</td><td>8</td></tr>",
                            "<tr><td>2016-07-01</td><td>8</td></tr>",
                            "<tr><td>2016-07-09</td><td>8</td></tr>",
                            "<tr><td>2016-08-17</td><td>7</td></tr>",
                            "<tr><td>2016-08-22</td><td>6</td></tr>",
                            "<tr><td>2016-08-29</td><td>6</td></tr>",
                            "<tr><td>2016-07-10</td><td>6</td></tr>",
                            "<tr><td>2016-07-02</td><td>6</td></tr>",
                            "<tr><td>2016-07-16</td><td>6</td></tr>",
                            "<tr><td>2016-07-13</td><td>6</td></tr>",
                            "<tr><td>2016-08-05</td><td>5</td></tr>",
                            "<tr><td>2016-07-31</td><td>5</td></tr>",
                            "<tr><td>2016-08-26</td><td>5</td></tr>",
                            "<tr><td>2016-07-05</td><td>4</td></tr>",
                            "<tr><td>2016-07-06</td><td>4</td></tr>",
                            "<tr><td>2016-07-07</td><td>4</td></tr>",
                            "<tr><td>2016-07-08</td><td>3</td></tr>",
                            "<tr><td>2016-08-04</td><td>2</td></tr>",
                            "<tr><td>2016-08-19</td><td>2</td></tr>",
                            "<tr><td>2016-08-23</td><td>2</td></tr>",
                            "<tr><td>2016-08-24</td><td>2</td></tr>",
                            "<tr><td>2016-08-25</td><td>2</td></tr>",
                            "<tr><td>2016-08-07</td><td>2</td></tr>",
                            "<tr><td>2016-08-14</td><td>2</td></tr>",
                            "<tr><td>2016-08-15</td><td>1</td></tr>",
                            "<tr><td>2016-08-16</td><td>1</td></tr>",
                            "<tr><td>2016-08-18</td><td>1</td></tr>",
                            "<tr><td>2016-08-27</td><td>1</td></tr>",
                            "<tr><td>2016-08-28</td><td>1</td></tr>",
                            "<tr><td>2016-09-03</td><td>1</td></tr>",
                            "<tr><td>2016-12-11</td><td>1</td></tr>",
                            "<tr><td>2016-07-04</td><td>1</td></tr>",
                            "</table>"
                        ]
                    }
                }
            ],
            "execution_count": 27
        },
        {
            "cell_type": "code",
            "source": [
                "SELECT row_type,\r\n",
                "    COUNT(*) row_count\r\n",
                "FROM \r\n",
                "    (SELECT \r\n",
                "        CASE WHEN felvitel IS NULL THEN 'Null'\r\n",
                "            WHEN LEN(felvitel) = 0 THEN 'Empty'\r\n",
                "            ELSE 'Non Empty' \r\n",
                "            END AS row_type\r\n",
                "        FROM termek) rows\r\n",
                "GROUP BY row_type"
            ],
            "metadata": {
                "azdata_cell_guid": "725e13ac-a422-412c-bec6-2fa6ed26e00b",
                "language": "sql"
            },
            "outputs": [
                {
                    "output_type": "display_data",
                    "data": {
                        "text/html": "(1 row affected)"
                    },
                    "metadata": {}
                },
                {
                    "output_type": "display_data",
                    "data": {
                        "text/html": "Total execution time: 00:00:00.016"
                    },
                    "metadata": {}
                },
                {
                    "output_type": "execute_result",
                    "metadata": {},
                    "execution_count": 29,
                    "data": {
                        "application/vnd.dataresource+json": {
                            "schema": {
                                "fields": [
                                    {
                                        "name": "row_type"
                                    },
                                    {
                                        "name": "row_count"
                                    }
                                ]
                            },
                            "data": [
                                {
                                    "row_type": "Non Empty",
                                    "row_count": "551"
                                }
                            ]
                        },
                        "text/html": [
                            "<table>",
                            "<tr><th>row_type</th><th>row_count</th></tr>",
                            "<tr><td>Non Empty</td><td>551</td></tr>",
                            "</table>"
                        ]
                    }
                }
            ],
            "execution_count": 29
        }
    ]
}