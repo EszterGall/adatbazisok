{
    "metadata": {
        "kernelspec": {
            "name": "SQL",
            "display_name": "SQL",
            "language": "sql"
        },
        "language_info": {
            "name": "sql",
            "version": ""
        }
    },
    "nbformat_minor": 2,
    "nbformat": 4,
    "cells": [
        {
            "cell_type": "markdown",
            "source": [
                "2\\. feladat"
            ],
            "metadata": {
                "azdata_cell_guid": "1081e097-9d83-4b5b-ae0d-eeb54ac36a1b"
            },
            "attachments": {}
        },
        {
            "cell_type": "code",
            "source": [
                "select tipus, hely, round(avg(csillagok_szama),2)\r\n",
                "from szallashely\r\n",
                "where szallas_nev not like '%-%'\r\n",
                "group by tipus, hely"
            ],
            "metadata": {
                "azdata_cell_guid": "0aa2db34-4d9f-43ee-b42c-53cd39cafc5f",
                "language": "sql"
            },
            "outputs": [
                {
                    "output_type": "display_data",
                    "data": {
                        "text/html": "(16 rows affected)"
                    },
                    "metadata": {}
                },
                {
                    "output_type": "display_data",
                    "data": {
                        "text/html": "Total execution time: 00:00:00.012"
                    },
                    "metadata": {}
                },
                {
                    "output_type": "execute_result",
                    "execution_count": 2,
                    "data": {
                        "application/vnd.dataresource+json": {
                            "schema": {
                                "fields": [
                                    {
                                        "name": "tipus"
                                    },
                                    {
                                        "name": "hely"
                                    },
                                    {
                                        "name": "(No column name)"
                                    }
                                ]
                            },
                            "data": [
                                {
                                    "tipus": "Apartman",
                                    "hely": "Balaton-dél",
                                    "(No column name)": "0"
                                },
                                {
                                    "tipus": "Hotel",
                                    "hely": "Balaton-dél",
                                    "(No column name)": "3"
                                },
                                {
                                    "tipus": "panzió",
                                    "hely": "Balaton-dél",
                                    "(No column name)": "3"
                                },
                                {
                                    "tipus": "vendégház",
                                    "hely": "Balaton-dél",
                                    "(No column name)": "0"
                                },
                                {
                                    "tipus": "vendégház",
                                    "hely": "Balaton-észak",
                                    "(No column name)": "0"
                                },
                                {
                                    "tipus": "panzió",
                                    "hely": "Békés megye",
                                    "(No column name)": "3"
                                },
                                {
                                    "tipus": "Diákszálló",
                                    "hely": "Budapest",
                                    "(No column name)": "0"
                                },
                                {
                                    "tipus": "Hotel",
                                    "hely": "Budapest",
                                    "(No column name)": "3"
                                },
                                {
                                    "tipus": "panzió",
                                    "hely": "Budapest",
                                    "(No column name)": "3"
                                },
                                {
                                    "tipus": "panzió",
                                    "hely": "Csongrád megye",
                                    "(No column name)": "3"
                                },
                                {
                                    "tipus": "vendégház",
                                    "hely": "Csongrád megye",
                                    "(No column name)": "0"
                                },
                                {
                                    "tipus": "Apartman",
                                    "hely": "Dél-Somogy",
                                    "(No column name)": "0"
                                },
                                {
                                    "tipus": "vendégház",
                                    "hely": "Dél-Somogy",
                                    "(No column name)": "0"
                                },
                                {
                                    "tipus": "Apartman",
                                    "hely": "Hajdúbihar megye",
                                    "(No column name)": "0"
                                },
                                {
                                    "tipus": "Hotel",
                                    "hely": "Pest megye",
                                    "(No column name)": "3"
                                },
                                {
                                    "tipus": "Hotel",
                                    "hely": "Tolna megye",
                                    "(No column name)": "4"
                                }
                            ]
                        },
                        "text/html": "<table><tr><th>tipus</th><th>hely</th><th>(No column name)</th></tr><tr><td>Apartman</td><td>Balaton-dél</td><td>0</td></tr><tr><td>Hotel</td><td>Balaton-dél</td><td>3</td></tr><tr><td>panzió</td><td>Balaton-dél</td><td>3</td></tr><tr><td>vendégház</td><td>Balaton-dél</td><td>0</td></tr><tr><td>vendégház</td><td>Balaton-észak</td><td>0</td></tr><tr><td>panzió</td><td>Békés megye</td><td>3</td></tr><tr><td>Diákszálló</td><td>Budapest</td><td>0</td></tr><tr><td>Hotel</td><td>Budapest</td><td>3</td></tr><tr><td>panzió</td><td>Budapest</td><td>3</td></tr><tr><td>panzió</td><td>Csongrád megye</td><td>3</td></tr><tr><td>vendégház</td><td>Csongrád megye</td><td>0</td></tr><tr><td>Apartman</td><td>Dél-Somogy</td><td>0</td></tr><tr><td>vendégház</td><td>Dél-Somogy</td><td>0</td></tr><tr><td>Apartman</td><td>Hajdúbihar megye</td><td>0</td></tr><tr><td>Hotel</td><td>Pest megye</td><td>3</td></tr><tr><td>Hotel</td><td>Tolna megye</td><td>4</td></tr></table>"
                    },
                    "metadata": {}
                }
            ],
            "execution_count": 2
        },
        {
            "cell_type": "markdown",
            "source": [
                "3\\. feladat"
            ],
            "metadata": {
                "azdata_cell_guid": "13c8a2b5-ff7d-432b-b0dc-ad14b40104db"
            },
            "attachments": {}
        },
        {
            "cell_type": "code",
            "source": [
                "select (felnott_szam+gyermek_szam) as 'Fő',\r\n",
                "        v.nev as 'Ügyfél neve',\r\n",
                "        AVG(felnott_szam+gyermek_szam) OVER(PARTITION BY\r\n",
                "v.nev ORDER BY foglalas_pk ROWS \r\n",
                "3 PRECEDING ) as 'Előző 3 foglalás átlaga'\r\n",
                "from foglalas f join vendeg v on ugyfel_fk=usernev\r\n",
                "where (felnott_szam+gyermek_szam)< (select avg(felnott_szam+gyermek_szam) \r\n",
                "from foglalas)\r\n",
                "UNION\r\n",
                "select (felnott_szam+gyermek_szam) as 'Fő',\r\n",
                "        v.nev as 'Ügyfél neve',\r\n",
                "        AVG(felnott_szam+gyermek_szam) OVER(PARTITION BY\r\n",
                "v.nev ORDER BY foglalas_pk ROWS \r\n",
                "3 PRECEDING ) as 'Előző 3 foglalás átlaga'\r\n",
                "from foglalas f join vendeg v on ugyfel_fk=usernev\r\n",
                "where (felnott_szam+gyermek_szam)< (select avg(felnott_szam+gyermek_szam) \r\n",
                "from foglalas) and foglalas_pk is null"
            ],
            "metadata": {
                "azdata_cell_guid": "cf9e4508-94d9-4d2b-b5b5-5d01e34f8c98",
                "language": "sql"
            },
            "outputs": [
                {
                    "output_type": "display_data",
                    "data": {
                        "text/html": "(100 rows affected)"
                    },
                    "metadata": {}
                },
                {
                    "output_type": "display_data",
                    "data": {
                        "text/html": "Total execution time: 00:00:00.031"
                    },
                    "metadata": {}
                },
                {
                    "output_type": "execute_result",
                    "execution_count": 9,
                    "data": {
                        "application/vnd.dataresource+json": {
                            "schema": {
                                "fields": [
                                    {
                                        "name": "Fő"
                                    },
                                    {
                                        "name": "Ügyfél neve"
                                    },
                                    {
                                        "name": "Előző 3 foglalás átlaga"
                                    }
                                ]
                            },
                            "data": [
                                {
                                    "Fő": "1",
                                    "Ügyfél neve": "Ambrus Dávid",
                                    "Előző 3 foglalás átlaga": "1"
                                },
                                {
                                    "Fő": "1",
                                    "Ügyfél neve": "Antal László",
                                    "Előző 3 foglalás átlaga": "1"
                                },
                                {
                                    "Fő": "1",
                                    "Ügyfél neve": "Bagi Beáta",
                                    "Előző 3 foglalás átlaga": "1"
                                },
                                {
                                    "Fő": "1",
                                    "Ügyfél neve": "Bagóczki Alexandra",
                                    "Előző 3 foglalás átlaga": "1"
                                },
                                {
                                    "Fő": "1",
                                    "Ügyfél neve": "Balogh Eszter",
                                    "Előző 3 foglalás átlaga": "1"
                                },
                                {
                                    "Fő": "1",
                                    "Ügyfél neve": "Baráth Mária",
                                    "Előző 3 foglalás átlaga": "1"
                                },
                                {
                                    "Fő": "1",
                                    "Ügyfél neve": "Barkóci Ádám",
                                    "Előző 3 foglalás átlaga": "1"
                                },
                                {
                                    "Fő": "1",
                                    "Ügyfél neve": "Barna Zoltán",
                                    "Előző 3 foglalás átlaga": "1"
                                },
                                {
                                    "Fő": "1",
                                    "Ügyfél neve": "Barta Zsuzsanna",
                                    "Előző 3 foglalás átlaga": "1"
                                },
                                {
                                    "Fő": "1",
                                    "Ügyfél neve": "Berendi Péter",
                                    "Előző 3 foglalás átlaga": "1"
                                },
                                {
                                    "Fő": "1",
                                    "Ügyfél neve": "Béres Norbert",
                                    "Előző 3 foglalás átlaga": "1"
                                },
                                {
                                    "Fő": "1",
                                    "Ügyfél neve": "Bíró Ákos",
                                    "Előző 3 foglalás átlaga": "1"
                                },
                                {
                                    "Fő": "1",
                                    "Ügyfél neve": "Bori Krisztina",
                                    "Előző 3 foglalás átlaga": "1"
                                },
                                {
                                    "Fő": "1",
                                    "Ügyfél neve": "Boros Vivien",
                                    "Előző 3 foglalás átlaga": "1"
                                },
                                {
                                    "Fő": "1",
                                    "Ügyfél neve": "Böröcz Anikó",
                                    "Előző 3 foglalás átlaga": "1"
                                },
                                {
                                    "Fő": "1",
                                    "Ügyfél neve": "Czérna Krisztián",
                                    "Előző 3 foglalás átlaga": "1"
                                },
                                {
                                    "Fő": "1",
                                    "Ügyfél neve": "Csiger Bertalan",
                                    "Előző 3 foglalás átlaga": "1"
                                },
                                {
                                    "Fő": "1",
                                    "Ügyfél neve": "Csóti Attila",
                                    "Előző 3 foglalás átlaga": "1"
                                },
                                {
                                    "Fő": "1",
                                    "Ügyfél neve": "Dunai Aladár",
                                    "Előző 3 foglalás átlaga": "1"
                                },
                                {
                                    "Fő": "1",
                                    "Ügyfél neve": "Erdei András",
                                    "Előző 3 foglalás átlaga": "1"
                                },
                                {
                                    "Fő": "1",
                                    "Ügyfél neve": "Farkas Béla",
                                    "Előző 3 foglalás átlaga": "1"
                                },
                                {
                                    "Fő": "1",
                                    "Ügyfél neve": "Farkas Sándor",
                                    "Előző 3 foglalás átlaga": "1"
                                },
                                {
                                    "Fő": "1",
                                    "Ügyfél neve": "Farkas Sára",
                                    "Előző 3 foglalás átlaga": "1"
                                },
                                {
                                    "Fő": "1",
                                    "Ügyfél neve": "Fényes Tamás",
                                    "Előző 3 foglalás átlaga": "1"
                                },
                                {
                                    "Fő": "1",
                                    "Ügyfél neve": "Ferencz Roland",
                                    "Előző 3 foglalás átlaga": "1"
                                },
                                {
                                    "Fő": "1",
                                    "Ügyfél neve": "Feró Valentin",
                                    "Előző 3 foglalás átlaga": "1"
                                },
                                {
                                    "Fő": "1",
                                    "Ügyfél neve": "Frank Fruzsina",
                                    "Előző 3 foglalás átlaga": "1"
                                },
                                {
                                    "Fő": "1",
                                    "Ügyfél neve": "Giliga János",
                                    "Előző 3 foglalás átlaga": "1"
                                },
                                {
                                    "Fő": "1",
                                    "Ügyfél neve": "Gombos Tibor",
                                    "Előző 3 foglalás átlaga": "1"
                                },
                                {
                                    "Fő": "1",
                                    "Ügyfél neve": "Gondos Katalin",
                                    "Előző 3 foglalás átlaga": "1"
                                },
                                {
                                    "Fő": "1",
                                    "Ügyfél neve": "Gondos Miklós",
                                    "Előző 3 foglalás átlaga": "1"
                                },
                                {
                                    "Fő": "1",
                                    "Ügyfél neve": "Gulyás Attila",
                                    "Előző 3 foglalás átlaga": "1"
                                },
                                {
                                    "Fő": "1",
                                    "Ügyfél neve": "Gyárfás Krisztina",
                                    "Előző 3 foglalás átlaga": "1"
                                },
                                {
                                    "Fő": "1",
                                    "Ügyfél neve": "Győrffy Bence",
                                    "Előző 3 foglalás átlaga": "1"
                                },
                                {
                                    "Fő": "1",
                                    "Ügyfél neve": "Gyuris József",
                                    "Előző 3 foglalás átlaga": "1"
                                },
                                {
                                    "Fő": "1",
                                    "Ügyfél neve": "Harangozó János",
                                    "Előző 3 foglalás átlaga": "1"
                                },
                                {
                                    "Fő": "1",
                                    "Ügyfél neve": "Hartyánszky Ágnes",
                                    "Előző 3 foglalás átlaga": "1"
                                },
                                {
                                    "Fő": "1",
                                    "Ügyfél neve": "Hegedűs Norbert",
                                    "Előző 3 foglalás átlaga": "1"
                                },
                                {
                                    "Fő": "1",
                                    "Ügyfél neve": "Hídasi Judit",
                                    "Előző 3 foglalás átlaga": "1"
                                },
                                {
                                    "Fő": "1",
                                    "Ügyfél neve": "Horváth Ágnes",
                                    "Előző 3 foglalás átlaga": "1"
                                },
                                {
                                    "Fő": "1",
                                    "Ügyfél neve": "Horváth Árpád",
                                    "Előző 3 foglalás átlaga": "1"
                                },
                                {
                                    "Fő": "1",
                                    "Ügyfél neve": "Horváth Katalin",
                                    "Előző 3 foglalás átlaga": "1"
                                },
                                {
                                    "Fő": "1",
                                    "Ügyfél neve": "Horváth Nikolett",
                                    "Előző 3 foglalás átlaga": "1"
                                },
                                {
                                    "Fő": "1",
                                    "Ügyfél neve": "Iván Róbert",
                                    "Előző 3 foglalás átlaga": "1"
                                },
                                {
                                    "Fő": "1",
                                    "Ügyfél neve": "Józsa Zsolt",
                                    "Előző 3 foglalás átlaga": "1"
                                },
                                {
                                    "Fő": "1",
                                    "Ügyfél neve": "Juhász Mihály",
                                    "Előző 3 foglalás átlaga": "1"
                                },
                                {
                                    "Fő": "1",
                                    "Ügyfél neve": "Kalacsi Márton",
                                    "Előző 3 foglalás átlaga": "1"
                                },
                                {
                                    "Fő": "1",
                                    "Ügyfél neve": "Kardos Renáta",
                                    "Előző 3 foglalás átlaga": "1"
                                },
                                {
                                    "Fő": "1",
                                    "Ügyfél neve": "Kazy Tihamér",
                                    "Előző 3 foglalás átlaga": "1"
                                },
                                {
                                    "Fő": "1",
                                    "Ügyfél neve": "Kertész Katalin",
                                    "Előző 3 foglalás átlaga": "1"
                                },
                                {
                                    "Fő": "1",
                                    "Ügyfél neve": "Kispál Márk",
                                    "Előző 3 foglalás átlaga": "1"
                                },
                                {
                                    "Fő": "1",
                                    "Ügyfél neve": "Kiss Ádám",
                                    "Előző 3 foglalás átlaga": "1"
                                },
                                {
                                    "Fő": "1",
                                    "Ügyfél neve": "Kiss Lajos",
                                    "Előző 3 foglalás átlaga": "1"
                                },
                                {
                                    "Fő": "1",
                                    "Ügyfél neve": "Komjáti András",
                                    "Előző 3 foglalás átlaga": "1"
                                },
                                {
                                    "Fő": "1",
                                    "Ügyfél neve": "Kornseé Gyöngyi",
                                    "Előző 3 foglalás átlaga": "1"
                                },
                                {
                                    "Fő": "1",
                                    "Ügyfél neve": "Kovács Bernadett",
                                    "Előző 3 foglalás átlaga": "1"
                                },
                                {
                                    "Fő": "1",
                                    "Ügyfél neve": "Kovács Katalin",
                                    "Előző 3 foglalás átlaga": "1"
                                },
                                {
                                    "Fő": "1",
                                    "Ügyfél neve": "Köves Gábor",
                                    "Előző 3 foglalás átlaga": "1"
                                },
                                {
                                    "Fő": "1",
                                    "Ügyfél neve": "Kuruc Emese",
                                    "Előző 3 foglalás átlaga": "1"
                                },
                                {
                                    "Fő": "1",
                                    "Ügyfél neve": "Lengyel Ágnes",
                                    "Előző 3 foglalás átlaga": "1"
                                },
                                {
                                    "Fő": "1",
                                    "Ügyfél neve": "Maródi Andrea",
                                    "Előző 3 foglalás átlaga": "1"
                                },
                                {
                                    "Fő": "1",
                                    "Ügyfél neve": "Mile Norbert",
                                    "Előző 3 foglalás átlaga": "1"
                                },
                                {
                                    "Fő": "1",
                                    "Ügyfél neve": "Mogyródi Krisztián",
                                    "Előző 3 foglalás átlaga": "1"
                                },
                                {
                                    "Fő": "1",
                                    "Ügyfél neve": "Mohos Mónika",
                                    "Előző 3 foglalás átlaga": "1"
                                },
                                {
                                    "Fő": "1",
                                    "Ügyfél neve": "Molnár András",
                                    "Előző 3 foglalás átlaga": "1"
                                },
                                {
                                    "Fő": "1",
                                    "Ügyfél neve": "Molnár Bálint",
                                    "Előző 3 foglalás átlaga": "1"
                                },
                                {
                                    "Fő": "1",
                                    "Ügyfél neve": "Móricz Árpád",
                                    "Előző 3 foglalás átlaga": "1"
                                },
                                {
                                    "Fő": "1",
                                    "Ügyfél neve": "Nádudvari Henrik",
                                    "Előző 3 foglalás átlaga": "1"
                                },
                                {
                                    "Fő": "1",
                                    "Ügyfél neve": "Nagy Júlia",
                                    "Előző 3 foglalás átlaga": "1"
                                },
                                {
                                    "Fő": "1",
                                    "Ügyfél neve": "Nagy László",
                                    "Előző 3 foglalás átlaga": "1"
                                },
                                {
                                    "Fő": "1",
                                    "Ügyfél neve": "Nagy Sándor",
                                    "Előző 3 foglalás átlaga": "1"
                                },
                                {
                                    "Fő": "1",
                                    "Ügyfél neve": "Neizer Andrea",
                                    "Előző 3 foglalás átlaga": "1"
                                },
                                {
                                    "Fő": "1",
                                    "Ügyfél neve": "Oroszi György",
                                    "Előző 3 foglalás átlaga": "1"
                                },
                                {
                                    "Fő": "1",
                                    "Ügyfél neve": "Patay Róbert",
                                    "Előző 3 foglalás átlaga": "1"
                                },
                                {
                                    "Fő": "1",
                                    "Ügyfél neve": "Perlinger Éva",
                                    "Előző 3 foglalás átlaga": "1"
                                },
                                {
                                    "Fő": "1",
                                    "Ügyfél neve": "Pivarcsi Anett",
                                    "Előző 3 foglalás átlaga": "1"
                                },
                                {
                                    "Fő": "1",
                                    "Ügyfél neve": "Rácz Dániel",
                                    "Előző 3 foglalás átlaga": "1"
                                },
                                {
                                    "Fő": "1",
                                    "Ügyfél neve": "Regős Annamária",
                                    "Előző 3 foglalás átlaga": "1"
                                },
                                {
                                    "Fő": "1",
                                    "Ügyfél neve": "Simon Anikó",
                                    "Előző 3 foglalás átlaga": "1"
                                },
                                {
                                    "Fő": "1",
                                    "Ügyfél neve": "Simon Bernadett",
                                    "Előző 3 foglalás átlaga": "1"
                                },
                                {
                                    "Fő": "1",
                                    "Ügyfél neve": "Szalai Péter",
                                    "Előző 3 foglalás átlaga": "1"
                                },
                                {
                                    "Fő": "1",
                                    "Ügyfél neve": "Szalai Szilárd",
                                    "Előző 3 foglalás átlaga": "1"
                                },
                                {
                                    "Fő": "1",
                                    "Ügyfél neve": "Szedlár Krisztina",
                                    "Előző 3 foglalás átlaga": "1"
                                },
                                {
                                    "Fő": "1",
                                    "Ügyfél neve": "Székely Brigitta",
                                    "Előző 3 foglalás átlaga": "1"
                                },
                                {
                                    "Fő": "1",
                                    "Ügyfél neve": "Szekendi Beatrix",
                                    "Előző 3 foglalás átlaga": "1"
                                },
                                {
                                    "Fő": "1",
                                    "Ügyfél neve": "Szilágyi Mátyás",
                                    "Előző 3 foglalás átlaga": "1"
                                },
                                {
                                    "Fő": "1",
                                    "Ügyfél neve": "Szirmai Renáta",
                                    "Előző 3 foglalás átlaga": "1"
                                },
                                {
                                    "Fő": "1",
                                    "Ügyfél neve": "Szűcs Balázs",
                                    "Előző 3 foglalás átlaga": "1"
                                },
                                {
                                    "Fő": "1",
                                    "Ügyfél neve": "Szűcs Norbert",
                                    "Előző 3 foglalás átlaga": "1"
                                },
                                {
                                    "Fő": "1",
                                    "Ügyfél neve": "Tankó Veronika",
                                    "Előző 3 foglalás átlaga": "1"
                                },
                                {
                                    "Fő": "1",
                                    "Ügyfél neve": "Telek Gábor",
                                    "Előző 3 foglalás átlaga": "1"
                                },
                                {
                                    "Fő": "1",
                                    "Ügyfél neve": "Tóth András",
                                    "Előző 3 foglalás átlaga": "1"
                                },
                                {
                                    "Fő": "1",
                                    "Ügyfél neve": "Tóth Júlia",
                                    "Előző 3 foglalás átlaga": "1"
                                },
                                {
                                    "Fő": "1",
                                    "Ügyfél neve": "Turcsik Tünde",
                                    "Előző 3 foglalás átlaga": "1"
                                },
                                {
                                    "Fő": "1",
                                    "Ügyfél neve": "Urbán Viktoria",
                                    "Előző 3 foglalás átlaga": "1"
                                },
                                {
                                    "Fő": "1",
                                    "Ügyfél neve": "Vajda Zsuzsa",
                                    "Előző 3 foglalás átlaga": "1"
                                },
                                {
                                    "Fő": "1",
                                    "Ügyfél neve": "Vígh András",
                                    "Előző 3 foglalás átlaga": "1"
                                },
                                {
                                    "Fő": "1",
                                    "Ügyfél neve": "Vizi István",
                                    "Előző 3 foglalás átlaga": "1"
                                },
                                {
                                    "Fő": "1",
                                    "Ügyfél neve": "Vörös Dániel",
                                    "Előző 3 foglalás átlaga": "1"
                                },
                                {
                                    "Fő": "1",
                                    "Ügyfél neve": "Vukasinovity Bálint",
                                    "Előző 3 foglalás átlaga": "1"
                                }
                            ]
                        },
                        "text/html": "<table><tr><th>Fő</th><th>Ügyfél neve</th><th>Előző 3 foglalás átlaga</th></tr><tr><td>1</td><td>Ambrus Dávid</td><td>1</td></tr><tr><td>1</td><td>Antal László</td><td>1</td></tr><tr><td>1</td><td>Bagi Beáta</td><td>1</td></tr><tr><td>1</td><td>Bagóczki Alexandra</td><td>1</td></tr><tr><td>1</td><td>Balogh Eszter</td><td>1</td></tr><tr><td>1</td><td>Baráth Mária</td><td>1</td></tr><tr><td>1</td><td>Barkóci Ádám</td><td>1</td></tr><tr><td>1</td><td>Barna Zoltán</td><td>1</td></tr><tr><td>1</td><td>Barta Zsuzsanna</td><td>1</td></tr><tr><td>1</td><td>Berendi Péter</td><td>1</td></tr><tr><td>1</td><td>Béres Norbert</td><td>1</td></tr><tr><td>1</td><td>Bíró Ákos</td><td>1</td></tr><tr><td>1</td><td>Bori Krisztina</td><td>1</td></tr><tr><td>1</td><td>Boros Vivien</td><td>1</td></tr><tr><td>1</td><td>Böröcz Anikó</td><td>1</td></tr><tr><td>1</td><td>Czérna Krisztián</td><td>1</td></tr><tr><td>1</td><td>Csiger Bertalan</td><td>1</td></tr><tr><td>1</td><td>Csóti Attila</td><td>1</td></tr><tr><td>1</td><td>Dunai Aladár</td><td>1</td></tr><tr><td>1</td><td>Erdei András</td><td>1</td></tr><tr><td>1</td><td>Farkas Béla</td><td>1</td></tr><tr><td>1</td><td>Farkas Sándor</td><td>1</td></tr><tr><td>1</td><td>Farkas Sára</td><td>1</td></tr><tr><td>1</td><td>Fényes Tamás</td><td>1</td></tr><tr><td>1</td><td>Ferencz Roland</td><td>1</td></tr><tr><td>1</td><td>Feró Valentin</td><td>1</td></tr><tr><td>1</td><td>Frank Fruzsina</td><td>1</td></tr><tr><td>1</td><td>Giliga János</td><td>1</td></tr><tr><td>1</td><td>Gombos Tibor</td><td>1</td></tr><tr><td>1</td><td>Gondos Katalin</td><td>1</td></tr><tr><td>1</td><td>Gondos Miklós</td><td>1</td></tr><tr><td>1</td><td>Gulyás Attila</td><td>1</td></tr><tr><td>1</td><td>Gyárfás Krisztina</td><td>1</td></tr><tr><td>1</td><td>Győrffy Bence</td><td>1</td></tr><tr><td>1</td><td>Gyuris József</td><td>1</td></tr><tr><td>1</td><td>Harangozó János</td><td>1</td></tr><tr><td>1</td><td>Hartyánszky Ágnes</td><td>1</td></tr><tr><td>1</td><td>Hegedűs Norbert</td><td>1</td></tr><tr><td>1</td><td>Hídasi Judit</td><td>1</td></tr><tr><td>1</td><td>Horváth Ágnes</td><td>1</td></tr><tr><td>1</td><td>Horváth Árpád</td><td>1</td></tr><tr><td>1</td><td>Horváth Katalin</td><td>1</td></tr><tr><td>1</td><td>Horváth Nikolett</td><td>1</td></tr><tr><td>1</td><td>Iván Róbert</td><td>1</td></tr><tr><td>1</td><td>Józsa Zsolt</td><td>1</td></tr><tr><td>1</td><td>Juhász Mihály</td><td>1</td></tr><tr><td>1</td><td>Kalacsi Márton</td><td>1</td></tr><tr><td>1</td><td>Kardos Renáta</td><td>1</td></tr><tr><td>1</td><td>Kazy Tihamér</td><td>1</td></tr><tr><td>1</td><td>Kertész Katalin</td><td>1</td></tr><tr><td>1</td><td>Kispál Márk</td><td>1</td></tr><tr><td>1</td><td>Kiss Ádám</td><td>1</td></tr><tr><td>1</td><td>Kiss Lajos</td><td>1</td></tr><tr><td>1</td><td>Komjáti András</td><td>1</td></tr><tr><td>1</td><td>Kornseé Gyöngyi</td><td>1</td></tr><tr><td>1</td><td>Kovács Bernadett</td><td>1</td></tr><tr><td>1</td><td>Kovács Katalin</td><td>1</td></tr><tr><td>1</td><td>Köves Gábor</td><td>1</td></tr><tr><td>1</td><td>Kuruc Emese</td><td>1</td></tr><tr><td>1</td><td>Lengyel Ágnes</td><td>1</td></tr><tr><td>1</td><td>Maródi Andrea</td><td>1</td></tr><tr><td>1</td><td>Mile Norbert</td><td>1</td></tr><tr><td>1</td><td>Mogyródi Krisztián</td><td>1</td></tr><tr><td>1</td><td>Mohos Mónika</td><td>1</td></tr><tr><td>1</td><td>Molnár András</td><td>1</td></tr><tr><td>1</td><td>Molnár Bálint</td><td>1</td></tr><tr><td>1</td><td>Móricz Árpád</td><td>1</td></tr><tr><td>1</td><td>Nádudvari Henrik</td><td>1</td></tr><tr><td>1</td><td>Nagy Júlia</td><td>1</td></tr><tr><td>1</td><td>Nagy László</td><td>1</td></tr><tr><td>1</td><td>Nagy Sándor</td><td>1</td></tr><tr><td>1</td><td>Neizer Andrea</td><td>1</td></tr><tr><td>1</td><td>Oroszi György</td><td>1</td></tr><tr><td>1</td><td>Patay Róbert</td><td>1</td></tr><tr><td>1</td><td>Perlinger Éva</td><td>1</td></tr><tr><td>1</td><td>Pivarcsi Anett</td><td>1</td></tr><tr><td>1</td><td>Rácz Dániel</td><td>1</td></tr><tr><td>1</td><td>Regős Annamária</td><td>1</td></tr><tr><td>1</td><td>Simon Anikó</td><td>1</td></tr><tr><td>1</td><td>Simon Bernadett</td><td>1</td></tr><tr><td>1</td><td>Szalai Péter</td><td>1</td></tr><tr><td>1</td><td>Szalai Szilárd</td><td>1</td></tr><tr><td>1</td><td>Szedlár Krisztina</td><td>1</td></tr><tr><td>1</td><td>Székely Brigitta</td><td>1</td></tr><tr><td>1</td><td>Szekendi Beatrix</td><td>1</td></tr><tr><td>1</td><td>Szilágyi Mátyás</td><td>1</td></tr><tr><td>1</td><td>Szirmai Renáta</td><td>1</td></tr><tr><td>1</td><td>Szűcs Balázs</td><td>1</td></tr><tr><td>1</td><td>Szűcs Norbert</td><td>1</td></tr><tr><td>1</td><td>Tankó Veronika</td><td>1</td></tr><tr><td>1</td><td>Telek Gábor</td><td>1</td></tr><tr><td>1</td><td>Tóth András</td><td>1</td></tr><tr><td>1</td><td>Tóth Júlia</td><td>1</td></tr><tr><td>1</td><td>Turcsik Tünde</td><td>1</td></tr><tr><td>1</td><td>Urbán Viktoria</td><td>1</td></tr><tr><td>1</td><td>Vajda Zsuzsa</td><td>1</td></tr><tr><td>1</td><td>Vígh András</td><td>1</td></tr><tr><td>1</td><td>Vizi István</td><td>1</td></tr><tr><td>1</td><td>Vörös Dániel</td><td>1</td></tr><tr><td>1</td><td>Vukasinovity Bálint</td><td>1</td></tr></table>"
                    },
                    "metadata": {}
                }
            ],
            "execution_count": 9
        }
    ]
}